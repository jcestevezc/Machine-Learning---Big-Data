{
  "nbformat": 4,
  "nbformat_minor": 0,
  "metadata": {
    "kernelspec": {
      "display_name": "Python 3",
      "language": "python",
      "name": "python3"
    },
    "colab": {
      "name": "1. Introduction.ipynb",
      "provenance": [],
      "include_colab_link": true
    }
  },
  "cells": [
    {
      "cell_type": "markdown",
      "metadata": {
        "id": "view-in-github",
        "colab_type": "text"
      },
      "source": [
        "<a href=\"https://colab.research.google.com/github/jcestevezc/Machine-Learning-Big-Data/blob/master/Machine%20Learning%20on%20Spark/Introduction.ipynb\" target=\"_parent\"><img src=\"https://colab.research.google.com/assets/colab-badge.svg\" alt=\"Open In Colab\"/></a>"
      ]
    },
    {
      "cell_type": "markdown",
      "metadata": {
        "id": "50Xa80VU_pdF",
        "colab_type": "text"
      },
      "source": [
        "# Machine Learning on Spark\n",
        "\n",
        "<img src=\"https://github.com/jcestevezc/Machine-Learning-Big-Data/blob/master/Machine%20Learning%20on%20Spark/ASB.jpeg?raw=true\" width=\"400\"> "
      ]
    },
    {
      "cell_type": "markdown",
      "metadata": {
        "id": "mA1qCzzZ4A_U",
        "colab_type": "text"
      },
      "source": [
        "## 0.1 Methodology [CRISP-DM](https://github.com/jcestevezc/Machine-Learning-Big-Data/blob/master/Machine%20Learning%20on%20Spark/CRISP_DM.pdf) and [ASUM-DM](http://gforge.icesi.edu.co/ASUM-DM_External/index.htm#cognos.external.asum-DM_Teaser/deliveryprocesses/ASUM-DM_8A5C87D5.html)\n",
        "\n",
        "Cross-industry standard process for data mining, known as CRISP-DM,[1] is an open standard process model that describes common approaches used by data mining experts. It is the most widely-used analytics model.\n",
        "\n",
        "<img src=\"https://github.com/jcestevezc/Machine-Learning-Big-Data/blob/master/Machine%20Learning%20on%20Spark/CRISP.png?raw=true\" width=\"400\">\n",
        "\n",
        "In 2015, IBM released a new methodology called Analytics Solutions Unified Method for Data Mining/Predictive Analytics (also known as ASUM-DM) which refines and extends CRISP-DM. Include *project management, more detailed deployment and operational description*.\n",
        "\n",
        "<img src=\"https://github.com/jcestevezc/Machine-Learning-Big-Data/blob/master/Machine%20Learning%20on%20Spark/ASUM.jpg?raw=true\" width=\"610\">\n",
        "\n",
        "\n"
      ]
    },
    {
      "cell_type": "markdown",
      "metadata": {
        "id": "KNRXaXt-_pdH",
        "colab_type": "text"
      },
      "source": [
        "## 0.2. Enviroment preparation"
      ]
    },
    {
      "cell_type": "code",
      "metadata": {
        "id": "W4pRDKB4_55T",
        "colab_type": "code",
        "colab": {}
      },
      "source": [
        "# ! pip install pyspark"
      ],
      "execution_count": 1,
      "outputs": []
    },
    {
      "cell_type": "code",
      "metadata": {
        "id": "ZxTM8dXu_pdI",
        "colab_type": "code",
        "colab": {}
      },
      "source": [
        "# Import the PySpark module\n",
        "from pyspark.sql import SparkSession\n",
        "from pyspark import SparkContext, SparkConf\n",
        "from pyspark.sql.functions import round\n",
        "from pyspark.ml.feature import StringIndexer\n",
        "from pyspark.ml.feature import VectorAssembler"
      ],
      "execution_count": 2,
      "outputs": []
    },
    {
      "cell_type": "code",
      "metadata": {
        "id": "yIJ3VksY_pdP",
        "colab_type": "code",
        "colab": {}
      },
      "source": [
        "##Create SparkContext\n",
        "sc = SparkContext.getOrCreate()\n",
        "\n",
        "# Create SparkSession object\n",
        "spark = SparkSession.builder \\\n",
        "                    .master('local[*]') \\\n",
        "                    .appName('test') \\\n",
        "                    .getOrCreate()"
      ],
      "execution_count": 3,
      "outputs": []
    },
    {
      "cell_type": "code",
      "metadata": {
        "id": "YABscH0f_pdS",
        "colab_type": "code",
        "colab": {
          "base_uri": "https://localhost:8080/",
          "height": 33
        },
        "outputId": "54914858-e3ad-44ba-c112-010c961d0f80"
      },
      "source": [
        "# What version of Spark?\n",
        "print(spark.version)"
      ],
      "execution_count": 4,
      "outputs": [
        {
          "output_type": "stream",
          "text": [
            "3.0.0\n"
          ],
          "name": "stdout"
        }
      ]
    },
    {
      "cell_type": "markdown",
      "metadata": {
        "id": "iMM24j858lys",
        "colab_type": "text"
      },
      "source": [
        "## 1. Business Understanding\n",
        "\n",
        "* Determine business objectives\n",
        "* Assess situation\n",
        "* Determine data mining goals\n",
        "* Produce project plan\n",
        "\n",
        "\n",
        "#**Datos de una aerolinea queremos determinar si el vuelo tendra retrasos o no**\n",
        "Para este caso el negocio decidio un retraso corresponde a un delay mayor a 15 min"
      ]
    },
    {
      "cell_type": "markdown",
      "metadata": {
        "id": "TnQcu4Sj_PUd",
        "colab_type": "text"
      },
      "source": [
        "## 2. Data Understanding"
      ]
    },
    {
      "cell_type": "markdown",
      "metadata": {
        "id": "xP6AcyPb_pdW",
        "colab_type": "text"
      },
      "source": [
        "### 2.1 Collect initial data"
      ]
    },
    {
      "cell_type": "code",
      "metadata": {
        "id": "20tba71z_pdX",
        "colab_type": "code",
        "colab": {}
      },
      "source": [
        "## Is not the best choose for large data sets\n",
        "flights = spark.read.csv('/content/sample_data/flights.csv',\n",
        "                         sep=',',\n",
        "                         header=True,\n",
        "                         inferSchema=True,\n",
        "                         nullValue='NA'\n",
        "                        )"
      ],
      "execution_count": 5,
      "outputs": []
    },
    {
      "cell_type": "markdown",
      "metadata": {
        "id": "JThruN4U_pUq",
        "colab_type": "text"
      },
      "source": [
        "### 2.2 Describe data"
      ]
    },
    {
      "cell_type": "code",
      "metadata": {
        "id": "jNRn3OfA_owh",
        "colab_type": "code",
        "colab": {
          "base_uri": "https://localhost:8080/",
          "height": 217
        },
        "outputId": "c0ef6c68-1139-4886-cdae-d443b6efc29b"
      },
      "source": [
        "flights.printSchema()"
      ],
      "execution_count": 6,
      "outputs": [
        {
          "output_type": "stream",
          "text": [
            "root\n",
            " |-- mon: integer (nullable = true)\n",
            " |-- dom: integer (nullable = true)\n",
            " |-- dow: integer (nullable = true)\n",
            " |-- carrier: string (nullable = true)\n",
            " |-- flight: integer (nullable = true)\n",
            " |-- org: string (nullable = true)\n",
            " |-- mile: integer (nullable = true)\n",
            " |-- depart: double (nullable = true)\n",
            " |-- duration: integer (nullable = true)\n",
            " |-- delay: integer (nullable = true)\n",
            "\n"
          ],
          "name": "stdout"
        }
      ]
    },
    {
      "cell_type": "markdown",
      "metadata": {
        "id": "R5XzqLN2_pdi",
        "colab_type": "text"
      },
      "source": [
        "### 2.3 Explore data"
      ]
    },
    {
      "cell_type": "code",
      "metadata": {
        "id": "NwX6qhu-_pdi",
        "colab_type": "code",
        "colab": {
          "base_uri": "https://localhost:8080/",
          "height": 33
        },
        "outputId": "2ed585e1-b74f-4226-d88d-33eaeb85d88d"
      },
      "source": [
        "# Get number of records\n",
        "print(\"The data contain %d records.\" % flights.count())"
      ],
      "execution_count": 7,
      "outputs": [
        {
          "output_type": "stream",
          "text": [
            "The data contain 50000 records.\n"
          ],
          "name": "stdout"
        }
      ]
    },
    {
      "cell_type": "code",
      "metadata": {
        "id": "Ufw8mUDL_pdm",
        "colab_type": "code",
        "colab": {
          "base_uri": "https://localhost:8080/",
          "height": 201
        },
        "outputId": "9e9be65f-3137-4f69-dca2-cb5df02c3f40"
      },
      "source": [
        "# View the first five records\n",
        "flights.show(5)"
      ],
      "execution_count": 8,
      "outputs": [
        {
          "output_type": "stream",
          "text": [
            "+---+---+---+-------+------+---+----+------+--------+-----+\n",
            "|mon|dom|dow|carrier|flight|org|mile|depart|duration|delay|\n",
            "+---+---+---+-------+------+---+----+------+--------+-----+\n",
            "| 11| 20|  6|     US|    19|JFK|2153|  9.48|     351| null|\n",
            "|  0| 22|  2|     UA|  1107|ORD| 316| 16.33|      82|   30|\n",
            "|  2| 20|  4|     UA|   226|SFO| 337|  6.17|      82|   -8|\n",
            "|  9| 13|  1|     AA|   419|ORD|1236| 10.33|     195|   -5|\n",
            "|  4|  2|  5|     AA|   325|ORD| 258|  8.92|      65| null|\n",
            "+---+---+---+-------+------+---+----+------+--------+-----+\n",
            "only showing top 5 rows\n",
            "\n"
          ],
          "name": "stdout"
        }
      ]
    },
    {
      "cell_type": "code",
      "metadata": {
        "id": "UDHbpOXL_pdp",
        "colab_type": "code",
        "colab": {
          "base_uri": "https://localhost:8080/",
          "height": 375
        },
        "outputId": "1484cdb2-2430-4caf-a4f5-30a81fc6c957"
      },
      "source": [
        "flights.describe().toPandas().transpose()"
      ],
      "execution_count": 9,
      "outputs": [
        {
          "output_type": "execute_result",
          "data": {
            "text/html": [
              "<div>\n",
              "<style scoped>\n",
              "    .dataframe tbody tr th:only-of-type {\n",
              "        vertical-align: middle;\n",
              "    }\n",
              "\n",
              "    .dataframe tbody tr th {\n",
              "        vertical-align: top;\n",
              "    }\n",
              "\n",
              "    .dataframe thead th {\n",
              "        text-align: right;\n",
              "    }\n",
              "</style>\n",
              "<table border=\"1\" class=\"dataframe\">\n",
              "  <thead>\n",
              "    <tr style=\"text-align: right;\">\n",
              "      <th></th>\n",
              "      <th>0</th>\n",
              "      <th>1</th>\n",
              "      <th>2</th>\n",
              "      <th>3</th>\n",
              "      <th>4</th>\n",
              "    </tr>\n",
              "  </thead>\n",
              "  <tbody>\n",
              "    <tr>\n",
              "      <th>summary</th>\n",
              "      <td>count</td>\n",
              "      <td>mean</td>\n",
              "      <td>stddev</td>\n",
              "      <td>min</td>\n",
              "      <td>max</td>\n",
              "    </tr>\n",
              "    <tr>\n",
              "      <th>mon</th>\n",
              "      <td>50000</td>\n",
              "      <td>5.2351</td>\n",
              "      <td>3.437758623534696</td>\n",
              "      <td>0</td>\n",
              "      <td>11</td>\n",
              "    </tr>\n",
              "    <tr>\n",
              "      <th>dom</th>\n",
              "      <td>50000</td>\n",
              "      <td>15.66196</td>\n",
              "      <td>8.772488135606777</td>\n",
              "      <td>1</td>\n",
              "      <td>31</td>\n",
              "    </tr>\n",
              "    <tr>\n",
              "      <th>dow</th>\n",
              "      <td>50000</td>\n",
              "      <td>2.95236</td>\n",
              "      <td>1.966033503314405</td>\n",
              "      <td>0</td>\n",
              "      <td>6</td>\n",
              "    </tr>\n",
              "    <tr>\n",
              "      <th>carrier</th>\n",
              "      <td>50000</td>\n",
              "      <td>None</td>\n",
              "      <td>None</td>\n",
              "      <td>AA</td>\n",
              "      <td>WN</td>\n",
              "    </tr>\n",
              "    <tr>\n",
              "      <th>flight</th>\n",
              "      <td>50000</td>\n",
              "      <td>2054.31344</td>\n",
              "      <td>2182.4715300582875</td>\n",
              "      <td>1</td>\n",
              "      <td>6941</td>\n",
              "    </tr>\n",
              "    <tr>\n",
              "      <th>org</th>\n",
              "      <td>50000</td>\n",
              "      <td>None</td>\n",
              "      <td>None</td>\n",
              "      <td>JFK</td>\n",
              "      <td>TUS</td>\n",
              "    </tr>\n",
              "    <tr>\n",
              "      <th>mile</th>\n",
              "      <td>50000</td>\n",
              "      <td>882.40112</td>\n",
              "      <td>701.232785607705</td>\n",
              "      <td>67</td>\n",
              "      <td>4243</td>\n",
              "    </tr>\n",
              "    <tr>\n",
              "      <th>depart</th>\n",
              "      <td>50000</td>\n",
              "      <td>14.130952600000064</td>\n",
              "      <td>4.694052286573998</td>\n",
              "      <td>0.25</td>\n",
              "      <td>23.98</td>\n",
              "    </tr>\n",
              "    <tr>\n",
              "      <th>duration</th>\n",
              "      <td>50000</td>\n",
              "      <td>151.76582</td>\n",
              "      <td>87.04507290261697</td>\n",
              "      <td>30</td>\n",
              "      <td>560</td>\n",
              "    </tr>\n",
              "    <tr>\n",
              "      <th>delay</th>\n",
              "      <td>47022</td>\n",
              "      <td>28.663795670111863</td>\n",
              "      <td>54.24034253403119</td>\n",
              "      <td>-72</td>\n",
              "      <td>1370</td>\n",
              "    </tr>\n",
              "  </tbody>\n",
              "</table>\n",
              "</div>"
            ],
            "text/plain": [
              "              0                   1                   2     3      4\n",
              "summary   count                mean              stddev   min    max\n",
              "mon       50000              5.2351   3.437758623534696     0     11\n",
              "dom       50000            15.66196   8.772488135606777     1     31\n",
              "dow       50000             2.95236   1.966033503314405     0      6\n",
              "carrier   50000                None                None    AA     WN\n",
              "flight    50000          2054.31344  2182.4715300582875     1   6941\n",
              "org       50000                None                None   JFK    TUS\n",
              "mile      50000           882.40112    701.232785607705    67   4243\n",
              "depart    50000  14.130952600000064   4.694052286573998  0.25  23.98\n",
              "duration  50000           151.76582   87.04507290261697    30    560\n",
              "delay     47022  28.663795670111863   54.24034253403119   -72   1370"
            ]
          },
          "metadata": {
            "tags": []
          },
          "execution_count": 9
        }
      ]
    },
    {
      "cell_type": "code",
      "metadata": {
        "id": "Av3g2qhJ_pdt",
        "colab_type": "code",
        "colab": {
          "base_uri": "https://localhost:8080/",
          "height": 184
        },
        "outputId": "32eb10c2-491a-44a4-dc06-64c6bbd6d125"
      },
      "source": [
        "# Check column data types\n",
        "flights.dtypes"
      ],
      "execution_count": 10,
      "outputs": [
        {
          "output_type": "execute_result",
          "data": {
            "text/plain": [
              "[('mon', 'int'),\n",
              " ('dom', 'int'),\n",
              " ('dow', 'int'),\n",
              " ('carrier', 'string'),\n",
              " ('flight', 'int'),\n",
              " ('org', 'string'),\n",
              " ('mile', 'int'),\n",
              " ('depart', 'double'),\n",
              " ('duration', 'int'),\n",
              " ('delay', 'int')]"
            ]
          },
          "metadata": {
            "tags": []
          },
          "execution_count": 10
        }
      ]
    },
    {
      "cell_type": "markdown",
      "metadata": {
        "id": "5RCtwaTgATr_",
        "colab_type": "text"
      },
      "source": [
        "### 2.4 Verify data quality\n",
        "\n",
        "Assement about the data quality, a report similar to pandas profiling could be very usefuld."
      ]
    },
    {
      "cell_type": "markdown",
      "metadata": {
        "id": "yKvCVESDAxCP",
        "colab_type": "text"
      },
      "source": [
        "## 3. Data preparation"
      ]
    },
    {
      "cell_type": "markdown",
      "metadata": {
        "id": "qx-_T-h0_pdw",
        "colab_type": "text"
      },
      "source": [
        "### 3.1 Select data"
      ]
    },
    {
      "cell_type": "code",
      "metadata": {
        "id": "VnNuhujJ_pdx",
        "colab_type": "code",
        "colab": {
          "base_uri": "https://localhost:8080/",
          "height": 201
        },
        "outputId": "ed72fdaf-41e5-4bab-e4b2-828e3e16d486"
      },
      "source": [
        "flights = flights.drop('distance','hour')\n",
        "flights.show(5)"
      ],
      "execution_count": 11,
      "outputs": [
        {
          "output_type": "stream",
          "text": [
            "+---+---+---+-------+------+---+----+------+--------+-----+\n",
            "|mon|dom|dow|carrier|flight|org|mile|depart|duration|delay|\n",
            "+---+---+---+-------+------+---+----+------+--------+-----+\n",
            "| 11| 20|  6|     US|    19|JFK|2153|  9.48|     351| null|\n",
            "|  0| 22|  2|     UA|  1107|ORD| 316| 16.33|      82|   30|\n",
            "|  2| 20|  4|     UA|   226|SFO| 337|  6.17|      82|   -8|\n",
            "|  9| 13|  1|     AA|   419|ORD|1236| 10.33|     195|   -5|\n",
            "|  4|  2|  5|     AA|   325|ORD| 258|  8.92|      65| null|\n",
            "+---+---+---+-------+------+---+----+------+--------+-----+\n",
            "only showing top 5 rows\n",
            "\n"
          ],
          "name": "stdout"
        }
      ]
    },
    {
      "cell_type": "markdown",
      "metadata": {
        "id": "rE_ffB_NBIRN",
        "colab_type": "text"
      },
      "source": [
        "### 3.2 Clean data"
      ]
    },
    {
      "cell_type": "markdown",
      "metadata": {
        "id": "j6Eg5KUi_pd2",
        "colab_type": "text"
      },
      "source": [
        "#### 3.2.1 Filtering out missing data"
      ]
    },
    {
      "cell_type": "code",
      "metadata": {
        "id": "YCOSAT-z_pd3",
        "colab_type": "code",
        "colab": {
          "base_uri": "https://localhost:8080/",
          "height": 33
        },
        "outputId": "6c6a1516-ec46-4d8f-c7f6-d8389307f270"
      },
      "source": [
        "flights.filter('delay is null').count()"
      ],
      "execution_count": 12,
      "outputs": [
        {
          "output_type": "execute_result",
          "data": {
            "text/plain": [
              "2978"
            ]
          },
          "metadata": {
            "tags": []
          },
          "execution_count": 12
        }
      ]
    },
    {
      "cell_type": "code",
      "metadata": {
        "id": "TKs0AtuR_pd5",
        "colab_type": "code",
        "colab": {
          "base_uri": "https://localhost:8080/",
          "height": 201
        },
        "outputId": "3c225cf6-b3c6-4b90-c5ab-cca8d2949b2f"
      },
      "source": [
        "flights = flights.filter('delay is not null')\n",
        "flights.show(5)"
      ],
      "execution_count": 13,
      "outputs": [
        {
          "output_type": "stream",
          "text": [
            "+---+---+---+-------+------+---+----+------+--------+-----+\n",
            "|mon|dom|dow|carrier|flight|org|mile|depart|duration|delay|\n",
            "+---+---+---+-------+------+---+----+------+--------+-----+\n",
            "|  0| 22|  2|     UA|  1107|ORD| 316| 16.33|      82|   30|\n",
            "|  2| 20|  4|     UA|   226|SFO| 337|  6.17|      82|   -8|\n",
            "|  9| 13|  1|     AA|   419|ORD|1236| 10.33|     195|   -5|\n",
            "|  5|  2|  1|     UA|   704|SFO| 550|  7.98|     102|    2|\n",
            "|  7|  2|  6|     AA|   380|ORD| 733| 10.83|     135|   54|\n",
            "+---+---+---+-------+------+---+----+------+--------+-----+\n",
            "only showing top 5 rows\n",
            "\n"
          ],
          "name": "stdout"
        }
      ]
    },
    {
      "cell_type": "code",
      "metadata": {
        "id": "FazDDK1R_pd8",
        "colab_type": "code",
        "colab": {
          "base_uri": "https://localhost:8080/",
          "height": 201
        },
        "outputId": "0c54004f-9b70-46c0-e4ad-2bb1cbf52500"
      },
      "source": [
        "flights = flights.dropna()\n",
        "flights.show(5)"
      ],
      "execution_count": 14,
      "outputs": [
        {
          "output_type": "stream",
          "text": [
            "+---+---+---+-------+------+---+----+------+--------+-----+\n",
            "|mon|dom|dow|carrier|flight|org|mile|depart|duration|delay|\n",
            "+---+---+---+-------+------+---+----+------+--------+-----+\n",
            "|  0| 22|  2|     UA|  1107|ORD| 316| 16.33|      82|   30|\n",
            "|  2| 20|  4|     UA|   226|SFO| 337|  6.17|      82|   -8|\n",
            "|  9| 13|  1|     AA|   419|ORD|1236| 10.33|     195|   -5|\n",
            "|  5|  2|  1|     UA|   704|SFO| 550|  7.98|     102|    2|\n",
            "|  7|  2|  6|     AA|   380|ORD| 733| 10.83|     135|   54|\n",
            "+---+---+---+-------+------+---+----+------+--------+-----+\n",
            "only showing top 5 rows\n",
            "\n"
          ],
          "name": "stdout"
        }
      ]
    },
    {
      "cell_type": "markdown",
      "metadata": {
        "id": "L6dFC7QK_peE",
        "colab_type": "text"
      },
      "source": [
        "### 3.3 Construct data"
      ]
    },
    {
      "cell_type": "markdown",
      "metadata": {
        "id": "aC3oXmiWB89Z",
        "colab_type": "text"
      },
      "source": [
        "Convert 'mile' to 'km' and drop 'mile' column"
      ]
    },
    {
      "cell_type": "code",
      "metadata": {
        "id": "3gbj9DgZ_peF",
        "colab_type": "code",
        "colab": {
          "base_uri": "https://localhost:8080/",
          "height": 201
        },
        "outputId": "728af34b-62ed-4b12-ebb8-aacc1b22b6ab"
      },
      "source": [
        "flights = flights.withColumn('km', round(flights.mile * 1.60934, 0)).drop('mile')\n",
        "flights.show(5)"
      ],
      "execution_count": 15,
      "outputs": [
        {
          "output_type": "stream",
          "text": [
            "+---+---+---+-------+------+---+------+--------+-----+------+\n",
            "|mon|dom|dow|carrier|flight|org|depart|duration|delay|    km|\n",
            "+---+---+---+-------+------+---+------+--------+-----+------+\n",
            "|  0| 22|  2|     UA|  1107|ORD| 16.33|      82|   30| 509.0|\n",
            "|  2| 20|  4|     UA|   226|SFO|  6.17|      82|   -8| 542.0|\n",
            "|  9| 13|  1|     AA|   419|ORD| 10.33|     195|   -5|1989.0|\n",
            "|  5|  2|  1|     UA|   704|SFO|  7.98|     102|    2| 885.0|\n",
            "|  7|  2|  6|     AA|   380|ORD| 10.83|     135|   54|1180.0|\n",
            "+---+---+---+-------+------+---+------+--------+-----+------+\n",
            "only showing top 5 rows\n",
            "\n"
          ],
          "name": "stdout"
        }
      ]
    },
    {
      "cell_type": "markdown",
      "metadata": {
        "id": "tvr0OLXFCBc-",
        "colab_type": "text"
      },
      "source": [
        "Create 'label' column indicating whether flight delayed (1) or not (0)"
      ]
    },
    {
      "cell_type": "code",
      "metadata": {
        "id": "NGoPBawjB59w",
        "colab_type": "code",
        "colab": {
          "base_uri": "https://localhost:8080/",
          "height": 201
        },
        "outputId": "0414f4c3-6941-4435-b0e2-57598184df57"
      },
      "source": [
        "flights = flights.withColumn('label', (flights.delay >=15).cast('integer'))\n",
        "flights.show(5)"
      ],
      "execution_count": 16,
      "outputs": [
        {
          "output_type": "stream",
          "text": [
            "+---+---+---+-------+------+---+------+--------+-----+------+-----+\n",
            "|mon|dom|dow|carrier|flight|org|depart|duration|delay|    km|label|\n",
            "+---+---+---+-------+------+---+------+--------+-----+------+-----+\n",
            "|  0| 22|  2|     UA|  1107|ORD| 16.33|      82|   30| 509.0|    1|\n",
            "|  2| 20|  4|     UA|   226|SFO|  6.17|      82|   -8| 542.0|    0|\n",
            "|  9| 13|  1|     AA|   419|ORD| 10.33|     195|   -5|1989.0|    0|\n",
            "|  5|  2|  1|     UA|   704|SFO|  7.98|     102|    2| 885.0|    0|\n",
            "|  7|  2|  6|     AA|   380|ORD| 10.83|     135|   54|1180.0|    1|\n",
            "+---+---+---+-------+------+---+------+--------+-----+------+-----+\n",
            "only showing top 5 rows\n",
            "\n"
          ],
          "name": "stdout"
        }
      ]
    },
    {
      "cell_type": "markdown",
      "metadata": {
        "id": "ZJRFr5XKFNlU",
        "colab_type": "text"
      },
      "source": [
        "### 3.4 Integrate data\n",
        "\n",
        "Is not necessary for this dataset"
      ]
    },
    {
      "cell_type": "markdown",
      "metadata": {
        "id": "Am5DYZFO_peI",
        "colab_type": "text"
      },
      "source": [
        "### 3.5 Format data"
      ]
    },
    {
      "cell_type": "markdown",
      "metadata": {
        "id": "w7T7pIqpFpLF",
        "colab_type": "text"
      },
      "source": [
        "#### 3.5.1 Indexing categorical data"
      ]
    },
    {
      "cell_type": "code",
      "metadata": {
        "id": "lD_JhAAp_peI",
        "colab_type": "code",
        "colab": {}
      },
      "source": [
        "# Create an indexer\n",
        "indexer = StringIndexer(inputCol='carrier', outputCol='carrier_idx')\n",
        "\n",
        "# Indexer identifies categories in the data\n",
        "indexer_model = indexer.fit(flights)\n",
        "\n",
        "# Indexer creates a new column with numeric index values\n",
        "flights_indexed = indexer_model.transform(flights)\n",
        "\n",
        "# Repeat the process for the other categorical feature\n",
        "flights_indexed = StringIndexer(inputCol='org', outputCol='org_idx').fit(flights_indexed).transform(flights_indexed)"
      ],
      "execution_count": 17,
      "outputs": []
    },
    {
      "cell_type": "code",
      "metadata": {
        "id": "ppuZ8mSmESg1",
        "colab_type": "code",
        "colab": {
          "base_uri": "https://localhost:8080/",
          "height": 201
        },
        "outputId": "a2291c71-91fd-4bc6-9cf4-5afd086f674c"
      },
      "source": [
        "flights_indexed.show(5)"
      ],
      "execution_count": 18,
      "outputs": [
        {
          "output_type": "stream",
          "text": [
            "+---+---+---+-------+------+---+------+--------+-----+------+-----+-----------+-------+\n",
            "|mon|dom|dow|carrier|flight|org|depart|duration|delay|    km|label|carrier_idx|org_idx|\n",
            "+---+---+---+-------+------+---+------+--------+-----+------+-----+-----------+-------+\n",
            "|  0| 22|  2|     UA|  1107|ORD| 16.33|      82|   30| 509.0|    1|        0.0|    0.0|\n",
            "|  2| 20|  4|     UA|   226|SFO|  6.17|      82|   -8| 542.0|    0|        0.0|    1.0|\n",
            "|  9| 13|  1|     AA|   419|ORD| 10.33|     195|   -5|1989.0|    0|        1.0|    0.0|\n",
            "|  5|  2|  1|     UA|   704|SFO|  7.98|     102|    2| 885.0|    0|        0.0|    1.0|\n",
            "|  7|  2|  6|     AA|   380|ORD| 10.83|     135|   54|1180.0|    1|        1.0|    0.0|\n",
            "+---+---+---+-------+------+---+------+--------+-----+------+-----+-----------+-------+\n",
            "only showing top 5 rows\n",
            "\n"
          ],
          "name": "stdout"
        }
      ]
    },
    {
      "cell_type": "markdown",
      "metadata": {
        "id": "rWH63ZT1_peL",
        "colab_type": "text"
      },
      "source": [
        "#### 3.5.2 Assembling columns"
      ]
    },
    {
      "cell_type": "code",
      "metadata": {
        "id": "DVvtJ2ox_peM",
        "colab_type": "code",
        "colab": {}
      },
      "source": [
        "# Create an assembler object\n",
        "assembler = VectorAssembler(\n",
        "    inputCols=['mon', \n",
        "               'dom' , \n",
        "               'dow',\n",
        "               'carrier_idx',\n",
        "               'org_idx',\n",
        "               'km',\n",
        "               'depart',\n",
        "               'duration'\n",
        "              ], outputCol='features')\n",
        "\n",
        "# Consolidate predictor columns\n",
        "flights = assembler.transform(flights_indexed)"
      ],
      "execution_count": 19,
      "outputs": []
    },
    {
      "cell_type": "code",
      "metadata": {
        "id": "OoNLzkWvJ8_H",
        "colab_type": "code",
        "colab": {
          "base_uri": "https://localhost:8080/",
          "height": 201
        },
        "outputId": "ec0c5d10-f2b6-4465-e970-984625d3ec46"
      },
      "source": [
        "flights.show(5)"
      ],
      "execution_count": 20,
      "outputs": [
        {
          "output_type": "stream",
          "text": [
            "+---+---+---+-------+------+---+------+--------+-----+------+-----+-----------+-------+--------------------+\n",
            "|mon|dom|dow|carrier|flight|org|depart|duration|delay|    km|label|carrier_idx|org_idx|            features|\n",
            "+---+---+---+-------+------+---+------+--------+-----+------+-----+-----------+-------+--------------------+\n",
            "|  0| 22|  2|     UA|  1107|ORD| 16.33|      82|   30| 509.0|    1|        0.0|    0.0|[0.0,22.0,2.0,0.0...|\n",
            "|  2| 20|  4|     UA|   226|SFO|  6.17|      82|   -8| 542.0|    0|        0.0|    1.0|[2.0,20.0,4.0,0.0...|\n",
            "|  9| 13|  1|     AA|   419|ORD| 10.33|     195|   -5|1989.0|    0|        1.0|    0.0|[9.0,13.0,1.0,1.0...|\n",
            "|  5|  2|  1|     UA|   704|SFO|  7.98|     102|    2| 885.0|    0|        0.0|    1.0|[5.0,2.0,1.0,0.0,...|\n",
            "|  7|  2|  6|     AA|   380|ORD| 10.83|     135|   54|1180.0|    1|        1.0|    0.0|[7.0,2.0,6.0,1.0,...|\n",
            "+---+---+---+-------+------+---+------+--------+-----+------+-----+-----------+-------+--------------------+\n",
            "only showing top 5 rows\n",
            "\n"
          ],
          "name": "stdout"
        }
      ]
    },
    {
      "cell_type": "markdown",
      "metadata": {
        "id": "lKPcEagL_peP",
        "colab_type": "text"
      },
      "source": [
        "#### 3.5.3 Train/test split"
      ]
    },
    {
      "cell_type": "code",
      "metadata": {
        "id": "lFT0N8aS_peP",
        "colab_type": "code",
        "colab": {
          "base_uri": "https://localhost:8080/",
          "height": 33
        },
        "outputId": "dee55691-1261-499e-a182-b9842c37c732"
      },
      "source": [
        "# Split into training and testing sets in a 80:20 ratio\n",
        "flights_train, flights_test = flights.randomSplit([0.8, 0.2], seed=17)\n",
        "\n",
        "# Check that training set has around 80% of records\n",
        "training_ratio = flights_train.count() / flights.count()\n",
        "print(training_ratio)"
      ],
      "execution_count": 21,
      "outputs": [
        {
          "output_type": "stream",
          "text": [
            "0.796967376972481\n"
          ],
          "name": "stdout"
        }
      ]
    },
    {
      "cell_type": "markdown",
      "metadata": {
        "id": "xcqAxUtdLucB",
        "colab_type": "text"
      },
      "source": [
        "## 4. Modeling"
      ]
    },
    {
      "cell_type": "markdown",
      "metadata": {
        "id": "WUrDwZAu_peS",
        "colab_type": "text"
      },
      "source": [
        "### 4.1 Select modeling technique: Decision Tree"
      ]
    },
    {
      "cell_type": "code",
      "metadata": {
        "id": "u8oKP80p_peT",
        "colab_type": "code",
        "colab": {
          "base_uri": "https://localhost:8080/",
          "height": 201
        },
        "outputId": "10939422-abc4-4b08-cf9d-3986935a8212"
      },
      "source": [
        "# Import the Decision Tree Classifier class\n",
        "from pyspark.ml.classification import DecisionTreeClassifier\n",
        "\n",
        "# Create a classifier object and fit to the training data\n",
        "tree = DecisionTreeClassifier()\n",
        "tree_model = tree.fit(flights_train)\n",
        "\n",
        "# Create predictions for the testing data and take a look at the predictions\n",
        "prediction = tree_model.transform(flights_test)\n",
        "prediction.select('label', 'prediction', 'probability').show(5, False)"
      ],
      "execution_count": 22,
      "outputs": [
        {
          "output_type": "stream",
          "text": [
            "+-----+----------+----------------------------------------+\n",
            "|label|prediction|probability                             |\n",
            "+-----+----------+----------------------------------------+\n",
            "|0    |1.0       |[0.35067887590779917,0.6493211240922008]|\n",
            "|1    |1.0       |[0.47227191413237923,0.5277280858676208]|\n",
            "|1    |1.0       |[0.35067887590779917,0.6493211240922008]|\n",
            "|1    |0.0       |[0.5358239508700102,0.4641760491299898] |\n",
            "|1    |0.0       |[0.5358239508700102,0.4641760491299898] |\n",
            "+-----+----------+----------------------------------------+\n",
            "only showing top 5 rows\n",
            "\n"
          ],
          "name": "stdout"
        }
      ]
    },
    {
      "cell_type": "markdown",
      "metadata": {
        "id": "sF-20Y1T_peV",
        "colab_type": "text"
      },
      "source": [
        "### 4.2 Assess model"
      ]
    },
    {
      "cell_type": "code",
      "metadata": {
        "id": "dSsSRKFw_peV",
        "colab_type": "code",
        "colab": {
          "base_uri": "https://localhost:8080/",
          "height": 184
        },
        "outputId": "6cf05143-6313-4d38-c877-f5f6d44caa2f"
      },
      "source": [
        "# Create a confusion matrix\n",
        "prediction.groupBy('label', 'prediction').count().show()\n",
        "\n",
        "# Calculate the elements of the confusion matrix\n",
        "TN = prediction.filter('prediction = 0 AND label = prediction').count()\n",
        "TP = prediction.filter('prediction = 1 AND label = prediction').count()\n",
        "FN = prediction.filter('prediction = 0 AND label != prediction').count()\n",
        "FP = prediction.filter('prediction = 1 AND label != prediction').count()\n",
        "\n",
        "# Accuracy measures the proportion of correct predictions\n",
        "accuracy = (TN + TP) / (TN + TP + FN + FP) \n",
        "print(accuracy)"
      ],
      "execution_count": 23,
      "outputs": [
        {
          "output_type": "stream",
          "text": [
            "+-----+----------+-----+\n",
            "|label|prediction|count|\n",
            "+-----+----------+-----+\n",
            "|    1|       0.0| 1248|\n",
            "|    0|       0.0| 2465|\n",
            "|    1|       1.0| 3633|\n",
            "|    0|       1.0| 2201|\n",
            "+-----+----------+-----+\n",
            "\n",
            "0.6387346810516392\n"
          ],
          "name": "stdout"
        }
      ]
    }
  ]
}