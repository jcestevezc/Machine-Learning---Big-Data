{
  "nbformat": 4,
  "nbformat_minor": 0,
  "metadata": {
    "kernelspec": {
      "display_name": "Python 3",
      "language": "python",
      "name": "python3"
    },
    "colab": {
      "name": "1. Introduction.ipynb",
      "provenance": [],
      "include_colab_link": true
    }
  },
  "cells": [
    {
      "cell_type": "markdown",
      "metadata": {
        "id": "view-in-github",
        "colab_type": "text"
      },
      "source": [
        "<a href=\"https://colab.research.google.com/github/jcestevezc/Machine-Learning-Big-Data/blob/master/Machine%20Learning%20on%20Spark/Introduction.ipynb\" target=\"_parent\"><img src=\"https://colab.research.google.com/assets/colab-badge.svg\" alt=\"Open In Colab\"/></a>"
      ]
    },
    {
      "cell_type": "markdown",
      "metadata": {
        "id": "50Xa80VU_pdF",
        "colab_type": "text"
      },
      "source": [
        "<img src=\"https://github.com/jcestevezc/Machine-Learning-Big-Data/blob/master/Machine%20Learning%20on%20Spark/ASB.jpeg?raw=true\" width=\"1000\"> \n",
        "# Machine Learning on Spark"
      ]
    },
    {
      "cell_type": "markdown",
      "metadata": {
        "id": "mA1qCzzZ4A_U",
        "colab_type": "text"
      },
      "source": [
        "## 0.1 Methodology [CRISP-DM](https://github.com/jcestevezc/Machine-Learning-Big-Data/blob/master/Machine%20Learning%20on%20Spark/CRISP_DM.pdf) and [ASUM-DM](http://gforge.icesi.edu.co/ASUM-DM_External/index.htm#cognos.external.asum-DM_Teaser/deliveryprocesses/ASUM-DM_8A5C87D5.html)\n",
        "\n",
        "Cross-industry standard process for data mining, known as CRISP-DM,[1] is an open standard process model that describes common approaches used by data mining experts. It is the most widely-used analytics model.\n",
        "\n",
        "<img src=\"https://github.com/jcestevezc/Machine-Learning-Big-Data/blob/master/Machine%20Learning%20on%20Spark/CRISP.png?raw=true\" width=\"400\">\n",
        "\n",
        "In 2015, IBM released a new methodology called Analytics Solutions Unified Method for Data Mining/Predictive Analytics (also known as ASUM-DM) which refines and extends CRISP-DM. Include *project management, more detailed deployment and operational description*.\n",
        "\n",
        "<img src=\"https://github.com/jcestevezc/Machine-Learning-Big-Data/blob/master/Machine%20Learning%20on%20Spark/ASUM.jpg?raw=true\" width=\"610\">\n",
        "\n",
        "\n"
      ]
    },
    {
      "cell_type": "markdown",
      "metadata": {
        "id": "KNRXaXt-_pdH",
        "colab_type": "text"
      },
      "source": [
        "## 0.2. Enviroment preparation"
      ]
    },
    {
      "cell_type": "code",
      "metadata": {
        "id": "W4pRDKB4_55T",
        "colab_type": "code",
        "colab": {
          "base_uri": "https://localhost:8080/",
          "height": 50
        },
        "outputId": "1cf4dfde-01bb-4232-d9ab-95c6c965336a"
      },
      "source": [
        " ! pip install pyspark"
      ],
      "execution_count": 1,
      "outputs": [
        {
          "output_type": "stream",
          "text": [
            "Requirement already satisfied: pyspark in /usr/local/lib/python3.6/dist-packages (3.0.0)\n",
            "Requirement already satisfied: py4j==0.10.9 in /usr/local/lib/python3.6/dist-packages (from pyspark) (0.10.9)\n"
          ],
          "name": "stdout"
        }
      ]
    },
    {
      "cell_type": "code",
      "metadata": {
        "id": "ZxTM8dXu_pdI",
        "colab_type": "code",
        "colab": {}
      },
      "source": [
        "# Import the PySpark module\n",
        "from pyspark.sql import SparkSession\n",
        "from pyspark import SparkContext, SparkConf\n",
        "from pyspark.sql.functions import round\n",
        "from pyspark.ml.feature import StringIndexer\n",
        "from pyspark.ml.feature import VectorAssembler"
      ],
      "execution_count": 2,
      "outputs": []
    },
    {
      "cell_type": "code",
      "metadata": {
        "id": "yIJ3VksY_pdP",
        "colab_type": "code",
        "colab": {}
      },
      "source": [
        "##Create SparkContext\n",
        "sc = SparkContext.getOrCreate()\n",
        "\n",
        "# Create SparkSession object\n",
        "spark = SparkSession.builder \\\n",
        "                    .master('local[*]') \\\n",
        "                    .appName('SparkML') \\\n",
        "                    .getOrCreate()"
      ],
      "execution_count": 3,
      "outputs": []
    },
    {
      "cell_type": "code",
      "metadata": {
        "id": "YABscH0f_pdS",
        "colab_type": "code",
        "colab": {
          "base_uri": "https://localhost:8080/",
          "height": 33
        },
        "outputId": "89a030bf-244c-46a4-a04f-6b8af67d68f1"
      },
      "source": [
        "# What version of Spark?\n",
        "print(spark.version)"
      ],
      "execution_count": 4,
      "outputs": [
        {
          "output_type": "stream",
          "text": [
            "3.0.0\n"
          ],
          "name": "stdout"
        }
      ]
    },
    {
      "cell_type": "markdown",
      "metadata": {
        "id": "iMM24j858lys",
        "colab_type": "text"
      },
      "source": [
        "## 1. Business Understanding\n",
        "\n",
        "* Determine business objectives\n",
        "* Assess situation\n",
        "* Determine data mining goals\n",
        "* Produce project plan\n",
        "\n",
        "\n",
        "*Short data description*: airline data \n",
        "\n",
        "*Data mining goals*: build a model for predict the delay in the differents flights.\n",
        "\n",
        "Note: a late arrival corresponds to a delay > 15 min"
      ]
    },
    {
      "cell_type": "markdown",
      "metadata": {
        "id": "TnQcu4Sj_PUd",
        "colab_type": "text"
      },
      "source": [
        "## 2. Data Understanding"
      ]
    },
    {
      "cell_type": "markdown",
      "metadata": {
        "id": "xP6AcyPb_pdW",
        "colab_type": "text"
      },
      "source": [
        "### 2.1 Collect initial data"
      ]
    },
    {
      "cell_type": "code",
      "metadata": {
        "id": "20tba71z_pdX",
        "colab_type": "code",
        "colab": {}
      },
      "source": [
        "## Is not the best choose for large data sets\n",
        "flights = spark.read.csv('/content/sample_data/flights_small.csv',\n",
        "                         sep=',',\n",
        "                         header=True,\n",
        "                         inferSchema=True,\n",
        "                         nullValue='NA'\n",
        "                        )"
      ],
      "execution_count": 5,
      "outputs": []
    },
    {
      "cell_type": "markdown",
      "metadata": {
        "id": "JThruN4U_pUq",
        "colab_type": "text"
      },
      "source": [
        "### 2.2 Describe data"
      ]
    },
    {
      "cell_type": "code",
      "metadata": {
        "id": "jNRn3OfA_owh",
        "colab_type": "code",
        "colab": {
          "base_uri": "https://localhost:8080/",
          "height": 318
        },
        "outputId": "35dd0834-4275-4e97-c856-bc69ae28d967"
      },
      "source": [
        "flights.printSchema()"
      ],
      "execution_count": 6,
      "outputs": [
        {
          "output_type": "stream",
          "text": [
            "root\n",
            " |-- year: integer (nullable = true)\n",
            " |-- month: integer (nullable = true)\n",
            " |-- day: integer (nullable = true)\n",
            " |-- dep_time: integer (nullable = true)\n",
            " |-- dep_delay: integer (nullable = true)\n",
            " |-- arr_time: integer (nullable = true)\n",
            " |-- arr_delay: integer (nullable = true)\n",
            " |-- carrier: string (nullable = true)\n",
            " |-- tailnum: string (nullable = true)\n",
            " |-- flight: integer (nullable = true)\n",
            " |-- origin: string (nullable = true)\n",
            " |-- dest: string (nullable = true)\n",
            " |-- air_time: integer (nullable = true)\n",
            " |-- distance: integer (nullable = true)\n",
            " |-- hour: integer (nullable = true)\n",
            " |-- minute: integer (nullable = true)\n",
            "\n"
          ],
          "name": "stdout"
        }
      ]
    },
    {
      "cell_type": "markdown",
      "metadata": {
        "id": "TQFTEkWfXodr",
        "colab_type": "text"
      },
      "source": [
        "Exploring the data dictionary:\n",
        "\n",
        "<img src=\"https://github.com/jcestevezc/Machine-Learning-Big-Data/blob/master/Machine%20Learning%20on%20Spark/DD.PNG?raw=true\" width=\"610\">\n"
      ]
    },
    {
      "cell_type": "markdown",
      "metadata": {
        "id": "R5XzqLN2_pdi",
        "colab_type": "text"
      },
      "source": [
        "### 2.3 Explore data"
      ]
    },
    {
      "cell_type": "code",
      "metadata": {
        "id": "NwX6qhu-_pdi",
        "colab_type": "code",
        "colab": {
          "base_uri": "https://localhost:8080/",
          "height": 33
        },
        "outputId": "6775de83-3cd7-45a8-9f3f-e753bd7014fe"
      },
      "source": [
        "# Get number of records\n",
        "print(\"The data contain %d records.\" % flights.count())"
      ],
      "execution_count": 7,
      "outputs": [
        {
          "output_type": "stream",
          "text": [
            "The data contain 10000 records.\n"
          ],
          "name": "stdout"
        }
      ]
    },
    {
      "cell_type": "code",
      "metadata": {
        "id": "Ufw8mUDL_pdm",
        "colab_type": "code",
        "colab": {
          "base_uri": "https://localhost:8080/",
          "height": 201
        },
        "outputId": "2a00091b-1116-4a3f-b33b-a53a87094379"
      },
      "source": [
        "# View the first five records\n",
        "flights.show(5)"
      ],
      "execution_count": 8,
      "outputs": [
        {
          "output_type": "stream",
          "text": [
            "+----+-----+---+--------+---------+--------+---------+-------+-------+------+------+----+--------+--------+----+------+\n",
            "|year|month|day|dep_time|dep_delay|arr_time|arr_delay|carrier|tailnum|flight|origin|dest|air_time|distance|hour|minute|\n",
            "+----+-----+---+--------+---------+--------+---------+-------+-------+------+------+----+--------+--------+----+------+\n",
            "|2014|   12|  8|     658|       -7|     935|       -5|     VX| N846VA|  1780|   SEA| LAX|     132|     954|   6|    58|\n",
            "|2014|    1| 22|    1040|        5|    1505|        5|     AS| N559AS|   851|   SEA| HNL|     360|    2677|  10|    40|\n",
            "|2014|    3|  9|    1443|       -2|    1652|        2|     VX| N847VA|   755|   SEA| SFO|     111|     679|  14|    43|\n",
            "|2014|    4|  9|    1705|       45|    1839|       34|     WN| N360SW|   344|   PDX| SJC|      83|     569|  17|     5|\n",
            "|2014|    3|  9|     754|       -1|    1015|        1|     AS| N612AS|   522|   SEA| BUR|     127|     937|   7|    54|\n",
            "+----+-----+---+--------+---------+--------+---------+-------+-------+------+------+----+--------+--------+----+------+\n",
            "only showing top 5 rows\n",
            "\n"
          ],
          "name": "stdout"
        }
      ]
    },
    {
      "cell_type": "code",
      "metadata": {
        "id": "UDHbpOXL_pdp",
        "colab_type": "code",
        "colab": {
          "base_uri": "https://localhost:8080/",
          "height": 554
        },
        "outputId": "a6c8fd0a-161e-44a4-a47f-b9b2c1abebda"
      },
      "source": [
        "flights.describe().toPandas().transpose()"
      ],
      "execution_count": 9,
      "outputs": [
        {
          "output_type": "execute_result",
          "data": {
            "text/html": [
              "<div>\n",
              "<style scoped>\n",
              "    .dataframe tbody tr th:only-of-type {\n",
              "        vertical-align: middle;\n",
              "    }\n",
              "\n",
              "    .dataframe tbody tr th {\n",
              "        vertical-align: top;\n",
              "    }\n",
              "\n",
              "    .dataframe thead th {\n",
              "        text-align: right;\n",
              "    }\n",
              "</style>\n",
              "<table border=\"1\" class=\"dataframe\">\n",
              "  <thead>\n",
              "    <tr style=\"text-align: right;\">\n",
              "      <th></th>\n",
              "      <th>0</th>\n",
              "      <th>1</th>\n",
              "      <th>2</th>\n",
              "      <th>3</th>\n",
              "      <th>4</th>\n",
              "    </tr>\n",
              "  </thead>\n",
              "  <tbody>\n",
              "    <tr>\n",
              "      <th>summary</th>\n",
              "      <td>count</td>\n",
              "      <td>mean</td>\n",
              "      <td>stddev</td>\n",
              "      <td>min</td>\n",
              "      <td>max</td>\n",
              "    </tr>\n",
              "    <tr>\n",
              "      <th>year</th>\n",
              "      <td>10000</td>\n",
              "      <td>2014.0</td>\n",
              "      <td>0.0</td>\n",
              "      <td>2014</td>\n",
              "      <td>2014</td>\n",
              "    </tr>\n",
              "    <tr>\n",
              "      <th>month</th>\n",
              "      <td>10000</td>\n",
              "      <td>6.6438</td>\n",
              "      <td>3.3191600205962097</td>\n",
              "      <td>1</td>\n",
              "      <td>12</td>\n",
              "    </tr>\n",
              "    <tr>\n",
              "      <th>day</th>\n",
              "      <td>10000</td>\n",
              "      <td>15.7009</td>\n",
              "      <td>8.895142019392079</td>\n",
              "      <td>1</td>\n",
              "      <td>31</td>\n",
              "    </tr>\n",
              "    <tr>\n",
              "      <th>dep_time</th>\n",
              "      <td>9952</td>\n",
              "      <td>1277.1158561093248</td>\n",
              "      <td>524.1142951055886</td>\n",
              "      <td>1</td>\n",
              "      <td>2400</td>\n",
              "    </tr>\n",
              "    <tr>\n",
              "      <th>dep_delay</th>\n",
              "      <td>9952</td>\n",
              "      <td>6.068629421221865</td>\n",
              "      <td>28.808608062751805</td>\n",
              "      <td>-19</td>\n",
              "      <td>886</td>\n",
              "    </tr>\n",
              "    <tr>\n",
              "      <th>arr_time</th>\n",
              "      <td>9945</td>\n",
              "      <td>1477.7236802413272</td>\n",
              "      <td>526.5936522261665</td>\n",
              "      <td>1</td>\n",
              "      <td>2400</td>\n",
              "    </tr>\n",
              "    <tr>\n",
              "      <th>arr_delay</th>\n",
              "      <td>9925</td>\n",
              "      <td>2.2530982367758186</td>\n",
              "      <td>31.074918600451877</td>\n",
              "      <td>-58</td>\n",
              "      <td>900</td>\n",
              "    </tr>\n",
              "    <tr>\n",
              "      <th>carrier</th>\n",
              "      <td>10000</td>\n",
              "      <td>None</td>\n",
              "      <td>None</td>\n",
              "      <td>AA</td>\n",
              "      <td>WN</td>\n",
              "    </tr>\n",
              "    <tr>\n",
              "      <th>tailnum</th>\n",
              "      <td>9986</td>\n",
              "      <td>None</td>\n",
              "      <td>None</td>\n",
              "      <td>D942DN</td>\n",
              "      <td>N988CA</td>\n",
              "    </tr>\n",
              "    <tr>\n",
              "      <th>flight</th>\n",
              "      <td>10000</td>\n",
              "      <td>1369.1011</td>\n",
              "      <td>1498.714573831908</td>\n",
              "      <td>2</td>\n",
              "      <td>6527</td>\n",
              "    </tr>\n",
              "    <tr>\n",
              "      <th>origin</th>\n",
              "      <td>10000</td>\n",
              "      <td>None</td>\n",
              "      <td>None</td>\n",
              "      <td>PDX</td>\n",
              "      <td>SEA</td>\n",
              "    </tr>\n",
              "    <tr>\n",
              "      <th>dest</th>\n",
              "      <td>10000</td>\n",
              "      <td>None</td>\n",
              "      <td>None</td>\n",
              "      <td>ABQ</td>\n",
              "      <td>TUS</td>\n",
              "    </tr>\n",
              "    <tr>\n",
              "      <th>air_time</th>\n",
              "      <td>9925</td>\n",
              "      <td>152.88423173803525</td>\n",
              "      <td>72.8656286392139</td>\n",
              "      <td>20</td>\n",
              "      <td>409</td>\n",
              "    </tr>\n",
              "    <tr>\n",
              "      <th>distance</th>\n",
              "      <td>10000</td>\n",
              "      <td>1208.1516</td>\n",
              "      <td>656.8599023464376</td>\n",
              "      <td>93</td>\n",
              "      <td>2724</td>\n",
              "    </tr>\n",
              "    <tr>\n",
              "      <th>hour</th>\n",
              "      <td>9952</td>\n",
              "      <td>12.465434083601286</td>\n",
              "      <td>5.246262953748826</td>\n",
              "      <td>0</td>\n",
              "      <td>24</td>\n",
              "    </tr>\n",
              "    <tr>\n",
              "      <th>minute</th>\n",
              "      <td>9952</td>\n",
              "      <td>30.57244774919614</td>\n",
              "      <td>17.98533264217002</td>\n",
              "      <td>0</td>\n",
              "      <td>59</td>\n",
              "    </tr>\n",
              "  </tbody>\n",
              "</table>\n",
              "</div>"
            ],
            "text/plain": [
              "               0                   1                   2       3       4\n",
              "summary    count                mean              stddev     min     max\n",
              "year       10000              2014.0                 0.0    2014    2014\n",
              "month      10000              6.6438  3.3191600205962097       1      12\n",
              "day        10000             15.7009   8.895142019392079       1      31\n",
              "dep_time    9952  1277.1158561093248   524.1142951055886       1    2400\n",
              "dep_delay   9952   6.068629421221865  28.808608062751805     -19     886\n",
              "arr_time    9945  1477.7236802413272   526.5936522261665       1    2400\n",
              "arr_delay   9925  2.2530982367758186  31.074918600451877     -58     900\n",
              "carrier    10000                None                None      AA      WN\n",
              "tailnum     9986                None                None  D942DN  N988CA\n",
              "flight     10000           1369.1011   1498.714573831908       2    6527\n",
              "origin     10000                None                None     PDX     SEA\n",
              "dest       10000                None                None     ABQ     TUS\n",
              "air_time    9925  152.88423173803525    72.8656286392139      20     409\n",
              "distance   10000           1208.1516   656.8599023464376      93    2724\n",
              "hour        9952  12.465434083601286   5.246262953748826       0      24\n",
              "minute      9952   30.57244774919614   17.98533264217002       0      59"
            ]
          },
          "metadata": {
            "tags": []
          },
          "execution_count": 9
        }
      ]
    },
    {
      "cell_type": "code",
      "metadata": {
        "id": "Av3g2qhJ_pdt",
        "colab_type": "code",
        "colab": {
          "base_uri": "https://localhost:8080/",
          "height": 284
        },
        "outputId": "ceb60def-5ce2-4225-8af3-22f8ec20b1b8"
      },
      "source": [
        "# Check column data types\n",
        "flights.dtypes"
      ],
      "execution_count": 10,
      "outputs": [
        {
          "output_type": "execute_result",
          "data": {
            "text/plain": [
              "[('year', 'int'),\n",
              " ('month', 'int'),\n",
              " ('day', 'int'),\n",
              " ('dep_time', 'int'),\n",
              " ('dep_delay', 'int'),\n",
              " ('arr_time', 'int'),\n",
              " ('arr_delay', 'int'),\n",
              " ('carrier', 'string'),\n",
              " ('tailnum', 'string'),\n",
              " ('flight', 'int'),\n",
              " ('origin', 'string'),\n",
              " ('dest', 'string'),\n",
              " ('air_time', 'int'),\n",
              " ('distance', 'int'),\n",
              " ('hour', 'int'),\n",
              " ('minute', 'int')]"
            ]
          },
          "metadata": {
            "tags": []
          },
          "execution_count": 10
        }
      ]
    },
    {
      "cell_type": "markdown",
      "metadata": {
        "id": "5RCtwaTgATr_",
        "colab_type": "text"
      },
      "source": [
        "### 2.4 Verify data quality\n",
        "\n",
        "Assement about the data quality, a report similar to pandas profiling could be very usefuld."
      ]
    },
    {
      "cell_type": "markdown",
      "metadata": {
        "id": "yKvCVESDAxCP",
        "colab_type": "text"
      },
      "source": [
        "## 3. Data preparation"
      ]
    },
    {
      "cell_type": "markdown",
      "metadata": {
        "id": "qx-_T-h0_pdw",
        "colab_type": "text"
      },
      "source": [
        "### 3.1 Select data\n",
        "\n",
        "hour + minute = dep_time"
      ]
    },
    {
      "cell_type": "code",
      "metadata": {
        "id": "VnNuhujJ_pdx",
        "colab_type": "code",
        "colab": {
          "base_uri": "https://localhost:8080/",
          "height": 201
        },
        "outputId": "91c905ae-d7a6-4ff6-8455-0ed2653e4a89"
      },
      "source": [
        "flights = flights.drop('year','hour','minute','flight')\n",
        "flights.show(5)"
      ],
      "execution_count": 11,
      "outputs": [
        {
          "output_type": "stream",
          "text": [
            "+-----+---+--------+---------+--------+---------+-------+-------+------+----+--------+--------+\n",
            "|month|day|dep_time|dep_delay|arr_time|arr_delay|carrier|tailnum|origin|dest|air_time|distance|\n",
            "+-----+---+--------+---------+--------+---------+-------+-------+------+----+--------+--------+\n",
            "|   12|  8|     658|       -7|     935|       -5|     VX| N846VA|   SEA| LAX|     132|     954|\n",
            "|    1| 22|    1040|        5|    1505|        5|     AS| N559AS|   SEA| HNL|     360|    2677|\n",
            "|    3|  9|    1443|       -2|    1652|        2|     VX| N847VA|   SEA| SFO|     111|     679|\n",
            "|    4|  9|    1705|       45|    1839|       34|     WN| N360SW|   PDX| SJC|      83|     569|\n",
            "|    3|  9|     754|       -1|    1015|        1|     AS| N612AS|   SEA| BUR|     127|     937|\n",
            "+-----+---+--------+---------+--------+---------+-------+-------+------+----+--------+--------+\n",
            "only showing top 5 rows\n",
            "\n"
          ],
          "name": "stdout"
        }
      ]
    },
    {
      "cell_type": "markdown",
      "metadata": {
        "id": "rE_ffB_NBIRN",
        "colab_type": "text"
      },
      "source": [
        "### 3.2 Clean data"
      ]
    },
    {
      "cell_type": "markdown",
      "metadata": {
        "id": "j6Eg5KUi_pd2",
        "colab_type": "text"
      },
      "source": [
        "#### 3.2.1 Filtering out missing data"
      ]
    },
    {
      "cell_type": "code",
      "metadata": {
        "id": "YCOSAT-z_pd3",
        "colab_type": "code",
        "colab": {
          "base_uri": "https://localhost:8080/",
          "height": 33
        },
        "outputId": "9a373ea9-0389-490f-8808-8a5235b26dc5"
      },
      "source": [
        "flights.filter('dep_delay is null').count()"
      ],
      "execution_count": 12,
      "outputs": [
        {
          "output_type": "execute_result",
          "data": {
            "text/plain": [
              "48"
            ]
          },
          "metadata": {
            "tags": []
          },
          "execution_count": 12
        }
      ]
    },
    {
      "cell_type": "code",
      "metadata": {
        "id": "_CAas069WHng",
        "colab_type": "code",
        "colab": {
          "base_uri": "https://localhost:8080/",
          "height": 33
        },
        "outputId": "d4a2417a-51dc-487f-d561-92c349da0d48"
      },
      "source": [
        "flights.filter('arr_delay is null').count()"
      ],
      "execution_count": 13,
      "outputs": [
        {
          "output_type": "execute_result",
          "data": {
            "text/plain": [
              "75"
            ]
          },
          "metadata": {
            "tags": []
          },
          "execution_count": 13
        }
      ]
    },
    {
      "cell_type": "code",
      "metadata": {
        "id": "TKs0AtuR_pd5",
        "colab_type": "code",
        "colab": {
          "base_uri": "https://localhost:8080/",
          "height": 201
        },
        "outputId": "440fb60e-e895-46fc-fc9e-9346d5099100"
      },
      "source": [
        "flights = flights.filter('dep_delay is not null')\n",
        "flights = flights.filter('arr_delay is not null')\n",
        "flights.show(5)"
      ],
      "execution_count": 14,
      "outputs": [
        {
          "output_type": "stream",
          "text": [
            "+-----+---+--------+---------+--------+---------+-------+-------+------+----+--------+--------+\n",
            "|month|day|dep_time|dep_delay|arr_time|arr_delay|carrier|tailnum|origin|dest|air_time|distance|\n",
            "+-----+---+--------+---------+--------+---------+-------+-------+------+----+--------+--------+\n",
            "|   12|  8|     658|       -7|     935|       -5|     VX| N846VA|   SEA| LAX|     132|     954|\n",
            "|    1| 22|    1040|        5|    1505|        5|     AS| N559AS|   SEA| HNL|     360|    2677|\n",
            "|    3|  9|    1443|       -2|    1652|        2|     VX| N847VA|   SEA| SFO|     111|     679|\n",
            "|    4|  9|    1705|       45|    1839|       34|     WN| N360SW|   PDX| SJC|      83|     569|\n",
            "|    3|  9|     754|       -1|    1015|        1|     AS| N612AS|   SEA| BUR|     127|     937|\n",
            "+-----+---+--------+---------+--------+---------+-------+-------+------+----+--------+--------+\n",
            "only showing top 5 rows\n",
            "\n"
          ],
          "name": "stdout"
        }
      ]
    },
    {
      "cell_type": "code",
      "metadata": {
        "id": "FazDDK1R_pd8",
        "colab_type": "code",
        "colab": {
          "base_uri": "https://localhost:8080/",
          "height": 201
        },
        "outputId": "6a9aa2d7-31a5-4b35-be2f-cbadbd6dbd72"
      },
      "source": [
        "flights = flights.dropna()\n",
        "flights.show(5)"
      ],
      "execution_count": 15,
      "outputs": [
        {
          "output_type": "stream",
          "text": [
            "+-----+---+--------+---------+--------+---------+-------+-------+------+----+--------+--------+\n",
            "|month|day|dep_time|dep_delay|arr_time|arr_delay|carrier|tailnum|origin|dest|air_time|distance|\n",
            "+-----+---+--------+---------+--------+---------+-------+-------+------+----+--------+--------+\n",
            "|   12|  8|     658|       -7|     935|       -5|     VX| N846VA|   SEA| LAX|     132|     954|\n",
            "|    1| 22|    1040|        5|    1505|        5|     AS| N559AS|   SEA| HNL|     360|    2677|\n",
            "|    3|  9|    1443|       -2|    1652|        2|     VX| N847VA|   SEA| SFO|     111|     679|\n",
            "|    4|  9|    1705|       45|    1839|       34|     WN| N360SW|   PDX| SJC|      83|     569|\n",
            "|    3|  9|     754|       -1|    1015|        1|     AS| N612AS|   SEA| BUR|     127|     937|\n",
            "+-----+---+--------+---------+--------+---------+-------+-------+------+----+--------+--------+\n",
            "only showing top 5 rows\n",
            "\n"
          ],
          "name": "stdout"
        }
      ]
    },
    {
      "cell_type": "markdown",
      "metadata": {
        "id": "L6dFC7QK_peE",
        "colab_type": "text"
      },
      "source": [
        "### 3.3 Construct data"
      ]
    },
    {
      "cell_type": "markdown",
      "metadata": {
        "id": "aC3oXmiWB89Z",
        "colab_type": "text"
      },
      "source": [
        "Convert 'mile' to 'km' and drop 'mile' column"
      ]
    },
    {
      "cell_type": "code",
      "metadata": {
        "id": "3gbj9DgZ_peF",
        "colab_type": "code",
        "colab": {
          "base_uri": "https://localhost:8080/",
          "height": 201
        },
        "outputId": "826737e9-a94b-4115-b7b0-0ef8a692e780"
      },
      "source": [
        "flights = flights.withColumn('distance_km', round(flights.distance * 1.60934, 0)).drop('distance')\n",
        "flights.show(5)"
      ],
      "execution_count": 16,
      "outputs": [
        {
          "output_type": "stream",
          "text": [
            "+-----+---+--------+---------+--------+---------+-------+-------+------+----+--------+-----------+\n",
            "|month|day|dep_time|dep_delay|arr_time|arr_delay|carrier|tailnum|origin|dest|air_time|distance_km|\n",
            "+-----+---+--------+---------+--------+---------+-------+-------+------+----+--------+-----------+\n",
            "|   12|  8|     658|       -7|     935|       -5|     VX| N846VA|   SEA| LAX|     132|     1535.0|\n",
            "|    1| 22|    1040|        5|    1505|        5|     AS| N559AS|   SEA| HNL|     360|     4308.0|\n",
            "|    3|  9|    1443|       -2|    1652|        2|     VX| N847VA|   SEA| SFO|     111|     1093.0|\n",
            "|    4|  9|    1705|       45|    1839|       34|     WN| N360SW|   PDX| SJC|      83|      916.0|\n",
            "|    3|  9|     754|       -1|    1015|        1|     AS| N612AS|   SEA| BUR|     127|     1508.0|\n",
            "+-----+---+--------+---------+--------+---------+-------+-------+------+----+--------+-----------+\n",
            "only showing top 5 rows\n",
            "\n"
          ],
          "name": "stdout"
        }
      ]
    },
    {
      "cell_type": "markdown",
      "metadata": {
        "id": "tvr0OLXFCBc-",
        "colab_type": "text"
      },
      "source": [
        "Create 'label' column indicating whether flight delayed (1) or not (0)"
      ]
    },
    {
      "cell_type": "code",
      "metadata": {
        "id": "NGoPBawjB59w",
        "colab_type": "code",
        "colab": {
          "base_uri": "https://localhost:8080/",
          "height": 201
        },
        "outputId": "c5bcc427-588f-45af-a698-23e1e8efc7ea"
      },
      "source": [
        "flights = flights.withColumn('label', (flights.arr_delay >=15).cast('integer'))\n",
        "flights.show(5)"
      ],
      "execution_count": 17,
      "outputs": [
        {
          "output_type": "stream",
          "text": [
            "+-----+---+--------+---------+--------+---------+-------+-------+------+----+--------+-----------+-----+\n",
            "|month|day|dep_time|dep_delay|arr_time|arr_delay|carrier|tailnum|origin|dest|air_time|distance_km|label|\n",
            "+-----+---+--------+---------+--------+---------+-------+-------+------+----+--------+-----------+-----+\n",
            "|   12|  8|     658|       -7|     935|       -5|     VX| N846VA|   SEA| LAX|     132|     1535.0|    0|\n",
            "|    1| 22|    1040|        5|    1505|        5|     AS| N559AS|   SEA| HNL|     360|     4308.0|    0|\n",
            "|    3|  9|    1443|       -2|    1652|        2|     VX| N847VA|   SEA| SFO|     111|     1093.0|    0|\n",
            "|    4|  9|    1705|       45|    1839|       34|     WN| N360SW|   PDX| SJC|      83|      916.0|    1|\n",
            "|    3|  9|     754|       -1|    1015|        1|     AS| N612AS|   SEA| BUR|     127|     1508.0|    0|\n",
            "+-----+---+--------+---------+--------+---------+-------+-------+------+----+--------+-----------+-----+\n",
            "only showing top 5 rows\n",
            "\n"
          ],
          "name": "stdout"
        }
      ]
    },
    {
      "cell_type": "markdown",
      "metadata": {
        "id": "ZJRFr5XKFNlU",
        "colab_type": "text"
      },
      "source": [
        "### 3.4 Integrate data\n",
        "\n",
        "Is not necessary for this dataset"
      ]
    },
    {
      "cell_type": "markdown",
      "metadata": {
        "id": "Am5DYZFO_peI",
        "colab_type": "text"
      },
      "source": [
        "### 3.5 Format data"
      ]
    },
    {
      "cell_type": "markdown",
      "metadata": {
        "id": "w7T7pIqpFpLF",
        "colab_type": "text"
      },
      "source": [
        "#### 3.5.1 Indexing categorical data"
      ]
    },
    {
      "cell_type": "code",
      "metadata": {
        "id": "lD_JhAAp_peI",
        "colab_type": "code",
        "colab": {}
      },
      "source": [
        "# Create an indexer\n",
        "indexer = StringIndexer(inputCol='carrier', outputCol='carrier_idx')\n",
        "\n",
        "# Indexer identifies categories in the data\n",
        "indexer_model = indexer.fit(flights)\n",
        "\n",
        "# Indexer creates a new column with numeric index values\n",
        "flights_indexed = indexer_model.transform(flights)\n",
        "\n",
        "# Repeat the process for the other categorical feature\n",
        "flights_indexed = StringIndexer(inputCol='origin', outputCol='origin_idx').fit(flights_indexed).transform(flights_indexed)\n",
        "flights_indexed = StringIndexer(inputCol='dest', outputCol='dest_idx').fit(flights_indexed).transform(flights_indexed)\n",
        "flights_indexed = StringIndexer(inputCol='tailnum', outputCol='tailnum_idx').fit(flights_indexed).transform(flights_indexed)"
      ],
      "execution_count": 18,
      "outputs": []
    },
    {
      "cell_type": "code",
      "metadata": {
        "id": "ppuZ8mSmESg1",
        "colab_type": "code",
        "colab": {
          "base_uri": "https://localhost:8080/",
          "height": 201
        },
        "outputId": "d1005261-ad4b-402a-bd27-fe558fa965a8"
      },
      "source": [
        "flights_indexed.show(5)"
      ],
      "execution_count": 19,
      "outputs": [
        {
          "output_type": "stream",
          "text": [
            "+-----+---+--------+---------+--------+---------+-------+-------+------+----+--------+-----------+-----+-----------+----------+--------+-----------+\n",
            "|month|day|dep_time|dep_delay|arr_time|arr_delay|carrier|tailnum|origin|dest|air_time|distance_km|label|carrier_idx|origin_idx|dest_idx|tailnum_idx|\n",
            "+-----+---+--------+---------+--------+---------+-------+-------+------+----+--------+-----------+-----+-----------+----------+--------+-----------+\n",
            "|   12|  8|     658|       -7|     935|       -5|     VX| N846VA|   SEA| LAX|     132|     1535.0|    0|        8.0|       0.0|     1.0|      320.0|\n",
            "|    1| 22|    1040|        5|    1505|        5|     AS| N559AS|   SEA| HNL|     360|     4308.0|    0|        0.0|       0.0|    21.0|      119.0|\n",
            "|    3|  9|    1443|       -2|    1652|        2|     VX| N847VA|   SEA| SFO|     111|     1093.0|    0|        8.0|       0.0|     0.0|      433.0|\n",
            "|    4|  9|    1705|       45|    1839|       34|     WN| N360SW|   PDX| SJC|      83|      916.0|    1|        1.0|       1.0|     9.0|      482.0|\n",
            "|    3|  9|     754|       -1|    1015|        1|     AS| N612AS|   SEA| BUR|     127|     1508.0|    0|        0.0|       0.0|    23.0|        1.0|\n",
            "+-----+---+--------+---------+--------+---------+-------+-------+------+----+--------+-----------+-----+-----------+----------+--------+-----------+\n",
            "only showing top 5 rows\n",
            "\n"
          ],
          "name": "stdout"
        }
      ]
    },
    {
      "cell_type": "markdown",
      "metadata": {
        "id": "rWH63ZT1_peL",
        "colab_type": "text"
      },
      "source": [
        "#### 3.5.2 Assembling columns"
      ]
    },
    {
      "cell_type": "code",
      "metadata": {
        "id": "DVvtJ2ox_peM",
        "colab_type": "code",
        "colab": {}
      },
      "source": [
        "# Create an assembler object\n",
        "assembler = VectorAssembler(\n",
        "    inputCols=['month', \n",
        "               'day', \n",
        "               'dep_time', \n",
        "               'dep_delay', \n",
        "               'arr_time', \n",
        "               'arr_delay', \n",
        "               'air_time', \n",
        "               'distance_km', \n",
        "               'carrier_idx', \n",
        "               'origin_idx', \n",
        "               'dest_idx',\n",
        "               'tailnum_idx',\n",
        "              ], outputCol='features')\n",
        "\n",
        "# Consolidate predictor columns\n",
        "flights = assembler.transform(flights_indexed)"
      ],
      "execution_count": 20,
      "outputs": []
    },
    {
      "cell_type": "code",
      "metadata": {
        "id": "OoNLzkWvJ8_H",
        "colab_type": "code",
        "colab": {
          "base_uri": "https://localhost:8080/",
          "height": 221
        },
        "outputId": "a77efd1a-c03d-4b05-a73f-c7b5b69ed64a"
      },
      "source": [
        "flights.show(5)"
      ],
      "execution_count": 21,
      "outputs": [
        {
          "output_type": "stream",
          "text": [
            "+-----+---+--------+---------+--------+---------+-------+-------+------+----+--------+-----------+-----+-----------+----------+--------+-----------+--------------------+\n",
            "|month|day|dep_time|dep_delay|arr_time|arr_delay|carrier|tailnum|origin|dest|air_time|distance_km|label|carrier_idx|origin_idx|dest_idx|tailnum_idx|            features|\n",
            "+-----+---+--------+---------+--------+---------+-------+-------+------+----+--------+-----------+-----+-----------+----------+--------+-----------+--------------------+\n",
            "|   12|  8|     658|       -7|     935|       -5|     VX| N846VA|   SEA| LAX|     132|     1535.0|    0|        8.0|       0.0|     1.0|      320.0|[12.0,8.0,658.0,-...|\n",
            "|    1| 22|    1040|        5|    1505|        5|     AS| N559AS|   SEA| HNL|     360|     4308.0|    0|        0.0|       0.0|    21.0|      119.0|[1.0,22.0,1040.0,...|\n",
            "|    3|  9|    1443|       -2|    1652|        2|     VX| N847VA|   SEA| SFO|     111|     1093.0|    0|        8.0|       0.0|     0.0|      433.0|[3.0,9.0,1443.0,-...|\n",
            "|    4|  9|    1705|       45|    1839|       34|     WN| N360SW|   PDX| SJC|      83|      916.0|    1|        1.0|       1.0|     9.0|      482.0|[4.0,9.0,1705.0,4...|\n",
            "|    3|  9|     754|       -1|    1015|        1|     AS| N612AS|   SEA| BUR|     127|     1508.0|    0|        0.0|       0.0|    23.0|        1.0|[3.0,9.0,754.0,-1...|\n",
            "+-----+---+--------+---------+--------+---------+-------+-------+------+----+--------+-----------+-----+-----------+----------+--------+-----------+--------------------+\n",
            "only showing top 5 rows\n",
            "\n"
          ],
          "name": "stdout"
        }
      ]
    },
    {
      "cell_type": "markdown",
      "metadata": {
        "id": "lKPcEagL_peP",
        "colab_type": "text"
      },
      "source": [
        "#### 3.5.3 Train/test split"
      ]
    },
    {
      "cell_type": "code",
      "metadata": {
        "id": "lFT0N8aS_peP",
        "colab_type": "code",
        "colab": {
          "base_uri": "https://localhost:8080/",
          "height": 33
        },
        "outputId": "47fd6504-4111-4e7c-8ac4-849e50ecd6f2"
      },
      "source": [
        "# Split into training and testing sets in a 80:20 ratio\n",
        "flights_train, flights_test = flights.randomSplit([0.8, 0.2], seed=17)\n",
        "\n",
        "# Check that training set has around 80% of records\n",
        "training_ratio = flights_train.count() / flights.count()\n",
        "print(training_ratio)"
      ],
      "execution_count": 22,
      "outputs": [
        {
          "output_type": "stream",
          "text": [
            "0.7949622166246851\n"
          ],
          "name": "stdout"
        }
      ]
    },
    {
      "cell_type": "markdown",
      "metadata": {
        "id": "xcqAxUtdLucB",
        "colab_type": "text"
      },
      "source": [
        "## 4. Modeling"
      ]
    },
    {
      "cell_type": "markdown",
      "metadata": {
        "id": "WUrDwZAu_peS",
        "colab_type": "text"
      },
      "source": [
        "### 4.1 Select modeling technique: Decision Tree"
      ]
    },
    {
      "cell_type": "code",
      "metadata": {
        "id": "u8oKP80p_peT",
        "colab_type": "code",
        "colab": {
          "base_uri": "https://localhost:8080/",
          "height": 302
        },
        "outputId": "cfde487f-aca4-47c7-8d49-e973957f6414"
      },
      "source": [
        "# Import the Decision Tree Classifier class\n",
        "from pyspark.ml.classification import DecisionTreeClassifier\n",
        "\n",
        "# Create a classifier object and fit to the training data\n",
        "tree = DecisionTreeClassifier()\n",
        "tree_model = tree.fit(flights_train)\n",
        "\n",
        "# Create predictions for the testing data and take a look at the predictions\n",
        "prediction = tree_model.transform(flights_test)\n",
        "prediction.select('label', 'prediction', 'probability').show(5, False)"
      ],
      "execution_count": 23,
      "outputs": [
        {
          "output_type": "error",
          "ename": "IllegalArgumentException",
          "evalue": "ignored",
          "traceback": [
            "\u001b[0;31m---------------------------------------------------------------------------\u001b[0m",
            "\u001b[0;31mIllegalArgumentException\u001b[0m                  Traceback (most recent call last)",
            "\u001b[0;32m<ipython-input-23-d5f1959a4082>\u001b[0m in \u001b[0;36m<module>\u001b[0;34m()\u001b[0m\n\u001b[1;32m      4\u001b[0m \u001b[0;31m# Create a classifier object and fit to the training data\u001b[0m\u001b[0;34m\u001b[0m\u001b[0;34m\u001b[0m\u001b[0;34m\u001b[0m\u001b[0m\n\u001b[1;32m      5\u001b[0m \u001b[0mtree\u001b[0m \u001b[0;34m=\u001b[0m \u001b[0mDecisionTreeClassifier\u001b[0m\u001b[0;34m(\u001b[0m\u001b[0;34m)\u001b[0m\u001b[0;34m\u001b[0m\u001b[0;34m\u001b[0m\u001b[0m\n\u001b[0;32m----> 6\u001b[0;31m \u001b[0mtree_model\u001b[0m \u001b[0;34m=\u001b[0m \u001b[0mtree\u001b[0m\u001b[0;34m.\u001b[0m\u001b[0mfit\u001b[0m\u001b[0;34m(\u001b[0m\u001b[0mflights_train\u001b[0m\u001b[0;34m)\u001b[0m\u001b[0;34m\u001b[0m\u001b[0;34m\u001b[0m\u001b[0m\n\u001b[0m\u001b[1;32m      7\u001b[0m \u001b[0;34m\u001b[0m\u001b[0m\n\u001b[1;32m      8\u001b[0m \u001b[0;31m# Create predictions for the testing data and take a look at the predictions\u001b[0m\u001b[0;34m\u001b[0m\u001b[0;34m\u001b[0m\u001b[0;34m\u001b[0m\u001b[0m\n",
            "\u001b[0;32m/usr/local/lib/python3.6/dist-packages/pyspark/ml/base.py\u001b[0m in \u001b[0;36mfit\u001b[0;34m(self, dataset, params)\u001b[0m\n\u001b[1;32m    127\u001b[0m                 \u001b[0;32mreturn\u001b[0m \u001b[0mself\u001b[0m\u001b[0;34m.\u001b[0m\u001b[0mcopy\u001b[0m\u001b[0;34m(\u001b[0m\u001b[0mparams\u001b[0m\u001b[0;34m)\u001b[0m\u001b[0;34m.\u001b[0m\u001b[0m_fit\u001b[0m\u001b[0;34m(\u001b[0m\u001b[0mdataset\u001b[0m\u001b[0;34m)\u001b[0m\u001b[0;34m\u001b[0m\u001b[0;34m\u001b[0m\u001b[0m\n\u001b[1;32m    128\u001b[0m             \u001b[0;32melse\u001b[0m\u001b[0;34m:\u001b[0m\u001b[0;34m\u001b[0m\u001b[0;34m\u001b[0m\u001b[0m\n\u001b[0;32m--> 129\u001b[0;31m                 \u001b[0;32mreturn\u001b[0m \u001b[0mself\u001b[0m\u001b[0;34m.\u001b[0m\u001b[0m_fit\u001b[0m\u001b[0;34m(\u001b[0m\u001b[0mdataset\u001b[0m\u001b[0;34m)\u001b[0m\u001b[0;34m\u001b[0m\u001b[0;34m\u001b[0m\u001b[0m\n\u001b[0m\u001b[1;32m    130\u001b[0m         \u001b[0;32melse\u001b[0m\u001b[0;34m:\u001b[0m\u001b[0;34m\u001b[0m\u001b[0;34m\u001b[0m\u001b[0m\n\u001b[1;32m    131\u001b[0m             raise ValueError(\"Params must be either a param map or a list/tuple of param maps, \"\n",
            "\u001b[0;32m/usr/local/lib/python3.6/dist-packages/pyspark/ml/wrapper.py\u001b[0m in \u001b[0;36m_fit\u001b[0;34m(self, dataset)\u001b[0m\n\u001b[1;32m    319\u001b[0m \u001b[0;34m\u001b[0m\u001b[0m\n\u001b[1;32m    320\u001b[0m     \u001b[0;32mdef\u001b[0m \u001b[0m_fit\u001b[0m\u001b[0;34m(\u001b[0m\u001b[0mself\u001b[0m\u001b[0;34m,\u001b[0m \u001b[0mdataset\u001b[0m\u001b[0;34m)\u001b[0m\u001b[0;34m:\u001b[0m\u001b[0;34m\u001b[0m\u001b[0;34m\u001b[0m\u001b[0m\n\u001b[0;32m--> 321\u001b[0;31m         \u001b[0mjava_model\u001b[0m \u001b[0;34m=\u001b[0m \u001b[0mself\u001b[0m\u001b[0;34m.\u001b[0m\u001b[0m_fit_java\u001b[0m\u001b[0;34m(\u001b[0m\u001b[0mdataset\u001b[0m\u001b[0;34m)\u001b[0m\u001b[0;34m\u001b[0m\u001b[0;34m\u001b[0m\u001b[0m\n\u001b[0m\u001b[1;32m    322\u001b[0m         \u001b[0mmodel\u001b[0m \u001b[0;34m=\u001b[0m \u001b[0mself\u001b[0m\u001b[0;34m.\u001b[0m\u001b[0m_create_model\u001b[0m\u001b[0;34m(\u001b[0m\u001b[0mjava_model\u001b[0m\u001b[0;34m)\u001b[0m\u001b[0;34m\u001b[0m\u001b[0;34m\u001b[0m\u001b[0m\n\u001b[1;32m    323\u001b[0m         \u001b[0;32mreturn\u001b[0m \u001b[0mself\u001b[0m\u001b[0;34m.\u001b[0m\u001b[0m_copyValues\u001b[0m\u001b[0;34m(\u001b[0m\u001b[0mmodel\u001b[0m\u001b[0;34m)\u001b[0m\u001b[0;34m\u001b[0m\u001b[0;34m\u001b[0m\u001b[0m\n",
            "\u001b[0;32m/usr/local/lib/python3.6/dist-packages/pyspark/ml/wrapper.py\u001b[0m in \u001b[0;36m_fit_java\u001b[0;34m(self, dataset)\u001b[0m\n\u001b[1;32m    316\u001b[0m         \"\"\"\n\u001b[1;32m    317\u001b[0m         \u001b[0mself\u001b[0m\u001b[0;34m.\u001b[0m\u001b[0m_transfer_params_to_java\u001b[0m\u001b[0;34m(\u001b[0m\u001b[0;34m)\u001b[0m\u001b[0;34m\u001b[0m\u001b[0;34m\u001b[0m\u001b[0m\n\u001b[0;32m--> 318\u001b[0;31m         \u001b[0;32mreturn\u001b[0m \u001b[0mself\u001b[0m\u001b[0;34m.\u001b[0m\u001b[0m_java_obj\u001b[0m\u001b[0;34m.\u001b[0m\u001b[0mfit\u001b[0m\u001b[0;34m(\u001b[0m\u001b[0mdataset\u001b[0m\u001b[0;34m.\u001b[0m\u001b[0m_jdf\u001b[0m\u001b[0;34m)\u001b[0m\u001b[0;34m\u001b[0m\u001b[0;34m\u001b[0m\u001b[0m\n\u001b[0m\u001b[1;32m    319\u001b[0m \u001b[0;34m\u001b[0m\u001b[0m\n\u001b[1;32m    320\u001b[0m     \u001b[0;32mdef\u001b[0m \u001b[0m_fit\u001b[0m\u001b[0;34m(\u001b[0m\u001b[0mself\u001b[0m\u001b[0;34m,\u001b[0m \u001b[0mdataset\u001b[0m\u001b[0;34m)\u001b[0m\u001b[0;34m:\u001b[0m\u001b[0;34m\u001b[0m\u001b[0;34m\u001b[0m\u001b[0m\n",
            "\u001b[0;32m/usr/local/lib/python3.6/dist-packages/py4j/java_gateway.py\u001b[0m in \u001b[0;36m__call__\u001b[0;34m(self, *args)\u001b[0m\n\u001b[1;32m   1303\u001b[0m         \u001b[0manswer\u001b[0m \u001b[0;34m=\u001b[0m \u001b[0mself\u001b[0m\u001b[0;34m.\u001b[0m\u001b[0mgateway_client\u001b[0m\u001b[0;34m.\u001b[0m\u001b[0msend_command\u001b[0m\u001b[0;34m(\u001b[0m\u001b[0mcommand\u001b[0m\u001b[0;34m)\u001b[0m\u001b[0;34m\u001b[0m\u001b[0;34m\u001b[0m\u001b[0m\n\u001b[1;32m   1304\u001b[0m         return_value = get_return_value(\n\u001b[0;32m-> 1305\u001b[0;31m             answer, self.gateway_client, self.target_id, self.name)\n\u001b[0m\u001b[1;32m   1306\u001b[0m \u001b[0;34m\u001b[0m\u001b[0m\n\u001b[1;32m   1307\u001b[0m         \u001b[0;32mfor\u001b[0m \u001b[0mtemp_arg\u001b[0m \u001b[0;32min\u001b[0m \u001b[0mtemp_args\u001b[0m\u001b[0;34m:\u001b[0m\u001b[0;34m\u001b[0m\u001b[0;34m\u001b[0m\u001b[0m\n",
            "\u001b[0;32m/usr/local/lib/python3.6/dist-packages/pyspark/sql/utils.py\u001b[0m in \u001b[0;36mdeco\u001b[0;34m(*a, **kw)\u001b[0m\n\u001b[1;32m    135\u001b[0m                 \u001b[0;31m# Hide where the exception came from that shows a non-Pythonic\u001b[0m\u001b[0;34m\u001b[0m\u001b[0;34m\u001b[0m\u001b[0;34m\u001b[0m\u001b[0m\n\u001b[1;32m    136\u001b[0m                 \u001b[0;31m# JVM exception message.\u001b[0m\u001b[0;34m\u001b[0m\u001b[0;34m\u001b[0m\u001b[0;34m\u001b[0m\u001b[0m\n\u001b[0;32m--> 137\u001b[0;31m                 \u001b[0mraise_from\u001b[0m\u001b[0;34m(\u001b[0m\u001b[0mconverted\u001b[0m\u001b[0;34m)\u001b[0m\u001b[0;34m\u001b[0m\u001b[0;34m\u001b[0m\u001b[0m\n\u001b[0m\u001b[1;32m    138\u001b[0m             \u001b[0;32melse\u001b[0m\u001b[0;34m:\u001b[0m\u001b[0;34m\u001b[0m\u001b[0;34m\u001b[0m\u001b[0m\n\u001b[1;32m    139\u001b[0m                 \u001b[0;32mraise\u001b[0m\u001b[0;34m\u001b[0m\u001b[0;34m\u001b[0m\u001b[0m\n",
            "\u001b[0;32m/usr/local/lib/python3.6/dist-packages/pyspark/sql/utils.py\u001b[0m in \u001b[0;36mraise_from\u001b[0;34m(e)\u001b[0m\n",
            "\u001b[0;31mIllegalArgumentException\u001b[0m: requirement failed: DecisionTree requires maxBins (= 32) to be at least as large as the number of values in each categorical feature, but categorical feature 11 has 2247 values. Consider removing this and other categorical features with a large number of values, or add more training examples."
          ]
        }
      ]
    },
    {
      "cell_type": "markdown",
      "metadata": {
        "id": "sF-20Y1T_peV",
        "colab_type": "text"
      },
      "source": [
        "### 4.2 Assess model"
      ]
    },
    {
      "cell_type": "code",
      "metadata": {
        "id": "dSsSRKFw_peV",
        "colab_type": "code",
        "colab": {}
      },
      "source": [
        "# Create a confusion matrix\n",
        "prediction.groupBy('label', 'prediction').count().show()\n",
        "\n",
        "# Calculate the elements of the confusion matrix\n",
        "TN = prediction.filter('prediction = 0 AND label = prediction').count()\n",
        "TP = prediction.filter('prediction = 1 AND label = prediction').count()\n",
        "FN = prediction.filter('prediction = 0 AND label != prediction').count()\n",
        "FP = prediction.filter('prediction = 1 AND label != prediction').count()\n",
        "\n",
        "# Accuracy measures the proportion of correct predictions\n",
        "accuracy = (TN + TP) / (TN + TP + FN + FP) \n",
        "print(accuracy)"
      ],
      "execution_count": null,
      "outputs": []
    }
  ]
}