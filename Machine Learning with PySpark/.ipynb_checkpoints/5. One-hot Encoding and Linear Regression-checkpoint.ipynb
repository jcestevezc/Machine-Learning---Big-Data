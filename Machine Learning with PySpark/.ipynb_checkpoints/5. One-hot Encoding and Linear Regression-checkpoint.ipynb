{
 "cells": [
  {
   "cell_type": "code",
   "execution_count": 1,
   "metadata": {},
   "outputs": [],
   "source": [
    "# Import the PySpark module\n",
    "from pyspark.sql import SparkSession\n",
    "from pyspark import SparkContext, SparkConf"
   ]
  },
  {
   "cell_type": "code",
   "execution_count": 2,
   "metadata": {},
   "outputs": [],
   "source": [
    "##Create SparkContext\n",
    "sc = SparkContext.getOrCreate()\n",
    "\n",
    "# Create SparkSession object\n",
    "spark = SparkSession.builder.master('local[*]').appName('oneHot').getOrCreate()"
   ]
  },
  {
   "cell_type": "code",
   "execution_count": 3,
   "metadata": {},
   "outputs": [],
   "source": [
    "## Is not the best choose for large data sets\n",
    "flights = spark.read.csv('flights.csv', sep=',', header=True, inferSchema=True, nullValue='NA')"
   ]
  },
  {
   "cell_type": "code",
   "execution_count": 4,
   "metadata": {},
   "outputs": [],
   "source": [
    "from pyspark.ml.feature import StringIndexer\n",
    "\n",
    "# Create an indexer\n",
    "indexer = StringIndexer(inputCol='carrier', outputCol='carrier_idx')\n",
    "\n",
    "# Indexer identifies categories in the data\n",
    "indexer_model = indexer.fit(flights)\n",
    "\n",
    "# Indexer creates a new column with numeric index values\n",
    "flights_indexed = indexer_model.transform(flights)\n",
    "\n",
    "# Repeat the process for the other categorical feature\n",
    "flights = flights_indexed = StringIndexer(inputCol='org', outputCol='org_idx').fit(flights_indexed).transform(flights_indexed)"
   ]
  },
  {
   "cell_type": "markdown",
   "metadata": {},
   "source": [
    "### One-hot Encoding"
   ]
  },
  {
   "cell_type": "code",
   "execution_count": 5,
   "metadata": {},
   "outputs": [
    {
     "name": "stdout",
     "output_type": "stream",
     "text": [
      "+---+-------+-------------+\n",
      "|org|org_idx|    org_dummy|\n",
      "+---+-------+-------------+\n",
      "|ORD|    0.0|(7,[0],[1.0])|\n",
      "|SFO|    1.0|(7,[1],[1.0])|\n",
      "|JFK|    2.0|(7,[2],[1.0])|\n",
      "|LGA|    3.0|(7,[3],[1.0])|\n",
      "|SJC|    4.0|(7,[4],[1.0])|\n",
      "|SMF|    5.0|(7,[5],[1.0])|\n",
      "|TUS|    6.0|(7,[6],[1.0])|\n",
      "|OGG|    7.0|    (7,[],[])|\n",
      "+---+-------+-------------+\n",
      "\n"
     ]
    }
   ],
   "source": [
    "from pyspark.ml.feature import OneHotEncoderEstimator\n",
    "\n",
    "# Create an instance of the one hot encoder\n",
    "onehot = OneHotEncoderEstimator(inputCols=['org_idx'], outputCols=['org_dummy'])\n",
    "\n",
    "# Apply the one hot encoder to the flights data\n",
    "onehot = onehot.fit(flights)\n",
    "flights_onehot = onehot.transform(flights)\n",
    "\n",
    "# Check the results\n",
    "flights_onehot.select('org', 'org_idx', 'org_dummy').distinct().sort('org_idx').show()"
   ]
  },
  {
   "cell_type": "code",
   "execution_count": 6,
   "metadata": {},
   "outputs": [
    {
     "name": "stdout",
     "output_type": "stream",
     "text": [
      "+---+---+---+-------+------+---+----+------+--------+-----+-----------+-------+-------------+\n",
      "|mon|dom|dow|carrier|flight|org|mile|depart|duration|delay|carrier_idx|org_idx|    org_dummy|\n",
      "+---+---+---+-------+------+---+----+------+--------+-----+-----------+-------+-------------+\n",
      "| 11| 20|  6|     US|    19|JFK|2153|  9.48|     351| null|        6.0|    2.0|(7,[2],[1.0])|\n",
      "|  0| 22|  2|     UA|  1107|ORD| 316| 16.33|      82|   30|        0.0|    0.0|(7,[0],[1.0])|\n",
      "|  2| 20|  4|     UA|   226|SFO| 337|  6.17|      82|   -8|        0.0|    1.0|(7,[1],[1.0])|\n",
      "|  9| 13|  1|     AA|   419|ORD|1236| 10.33|     195|   -5|        1.0|    0.0|(7,[0],[1.0])|\n",
      "|  4|  2|  5|     AA|   325|ORD| 258|  8.92|      65| null|        1.0|    0.0|(7,[0],[1.0])|\n",
      "|  5|  2|  1|     UA|   704|SFO| 550|  7.98|     102|    2|        0.0|    1.0|(7,[1],[1.0])|\n",
      "|  7|  2|  6|     AA|   380|ORD| 733| 10.83|     135|   54|        1.0|    0.0|(7,[0],[1.0])|\n",
      "|  1| 16|  6|     UA|  1477|ORD|1440|   8.0|     232|   -7|        0.0|    0.0|(7,[0],[1.0])|\n",
      "|  1| 22|  5|     UA|   620|SJC|1829|  7.98|     250|  -13|        0.0|    4.0|(7,[4],[1.0])|\n",
      "| 11|  8|  1|     OO|  5590|SFO| 158|  7.77|      60|   88|        2.0|    1.0|(7,[1],[1.0])|\n",
      "|  4| 26|  1|     AA|  1144|SFO|1464| 13.25|     210|  -10|        1.0|    1.0|(7,[1],[1.0])|\n",
      "|  4| 25|  0|     AA|   321|ORD| 978| 13.75|     160|   31|        1.0|    0.0|(7,[0],[1.0])|\n",
      "|  8| 30|  2|     UA|   646|ORD| 719| 13.28|     151|   16|        0.0|    0.0|(7,[0],[1.0])|\n",
      "|  3| 16|  3|     UA|   107|ORD|1745|   9.0|     264|    3|        0.0|    0.0|(7,[0],[1.0])|\n",
      "|  0|  3|  4|     AA|  1559|LGA|1097| 17.08|     190|   32|        1.0|    3.0|(7,[3],[1.0])|\n",
      "|  5|  9|  1|     UA|   770|SFO| 967|  12.7|     158|   20|        0.0|    1.0|(7,[1],[1.0])|\n",
      "|  3| 10|  4|     B6|   937|ORD|1735| 17.58|     265|  155|        4.0|    0.0|(7,[0],[1.0])|\n",
      "| 11| 15|  1|     AA|  2303|ORD| 802|  6.75|     160|   23|        1.0|    0.0|(7,[0],[1.0])|\n",
      "|  8| 18|  4|     UA|   802|SJC| 948|  6.33|     160|   17|        0.0|    4.0|(7,[4],[1.0])|\n",
      "|  2| 14|  5|     B6|    71|JFK| 944|  6.17|     166|    0|        4.0|    2.0|(7,[2],[1.0])|\n",
      "+---+---+---+-------+------+---+----+------+--------+-----+-----------+-------+-------------+\n",
      "only showing top 20 rows\n",
      "\n"
     ]
    }
   ],
   "source": [
    "flights_onehot.show()"
   ]
  },
  {
   "cell_type": "code",
   "execution_count": 7,
   "metadata": {},
   "outputs": [],
   "source": [
    "flights = flights_onehot"
   ]
  },
  {
   "cell_type": "code",
   "execution_count": 8,
   "metadata": {},
   "outputs": [],
   "source": [
    "from pyspark.ml.feature import VectorAssembler\n",
    "\n",
    "# Create an assembler object\n",
    "\n",
    "assembler = VectorAssembler(inputCols=['mile','org_dummy'], outputCol='features')\n",
    "\n",
    "# Consolidate predictor columns\n",
    "flights_assembled = assembler.transform(flights)\n",
    "flights = flights_assembled"
   ]
  },
  {
   "cell_type": "code",
   "execution_count": 9,
   "metadata": {},
   "outputs": [
    {
     "name": "stdout",
     "output_type": "stream",
     "text": [
      "+---+---+---+-------+------+---+----+------+--------+-----+-----------+-------+-------------+--------------------+\n",
      "|mon|dom|dow|carrier|flight|org|mile|depart|duration|delay|carrier_idx|org_idx|    org_dummy|            features|\n",
      "+---+---+---+-------+------+---+----+------+--------+-----+-----------+-------+-------------+--------------------+\n",
      "| 11| 20|  6|     US|    19|JFK|2153|  9.48|     351| null|        6.0|    2.0|(7,[2],[1.0])|(8,[0,3],[2153.0,...|\n",
      "|  0| 22|  2|     UA|  1107|ORD| 316| 16.33|      82|   30|        0.0|    0.0|(7,[0],[1.0])|(8,[0,1],[316.0,1...|\n",
      "|  2| 20|  4|     UA|   226|SFO| 337|  6.17|      82|   -8|        0.0|    1.0|(7,[1],[1.0])|(8,[0,2],[337.0,1...|\n",
      "|  9| 13|  1|     AA|   419|ORD|1236| 10.33|     195|   -5|        1.0|    0.0|(7,[0],[1.0])|(8,[0,1],[1236.0,...|\n",
      "|  4|  2|  5|     AA|   325|ORD| 258|  8.92|      65| null|        1.0|    0.0|(7,[0],[1.0])|(8,[0,1],[258.0,1...|\n",
      "|  5|  2|  1|     UA|   704|SFO| 550|  7.98|     102|    2|        0.0|    1.0|(7,[1],[1.0])|(8,[0,2],[550.0,1...|\n",
      "|  7|  2|  6|     AA|   380|ORD| 733| 10.83|     135|   54|        1.0|    0.0|(7,[0],[1.0])|(8,[0,1],[733.0,1...|\n",
      "|  1| 16|  6|     UA|  1477|ORD|1440|   8.0|     232|   -7|        0.0|    0.0|(7,[0],[1.0])|(8,[0,1],[1440.0,...|\n",
      "|  1| 22|  5|     UA|   620|SJC|1829|  7.98|     250|  -13|        0.0|    4.0|(7,[4],[1.0])|(8,[0,5],[1829.0,...|\n",
      "| 11|  8|  1|     OO|  5590|SFO| 158|  7.77|      60|   88|        2.0|    1.0|(7,[1],[1.0])|(8,[0,2],[158.0,1...|\n",
      "|  4| 26|  1|     AA|  1144|SFO|1464| 13.25|     210|  -10|        1.0|    1.0|(7,[1],[1.0])|(8,[0,2],[1464.0,...|\n",
      "|  4| 25|  0|     AA|   321|ORD| 978| 13.75|     160|   31|        1.0|    0.0|(7,[0],[1.0])|(8,[0,1],[978.0,1...|\n",
      "|  8| 30|  2|     UA|   646|ORD| 719| 13.28|     151|   16|        0.0|    0.0|(7,[0],[1.0])|(8,[0,1],[719.0,1...|\n",
      "|  3| 16|  3|     UA|   107|ORD|1745|   9.0|     264|    3|        0.0|    0.0|(7,[0],[1.0])|(8,[0,1],[1745.0,...|\n",
      "|  0|  3|  4|     AA|  1559|LGA|1097| 17.08|     190|   32|        1.0|    3.0|(7,[3],[1.0])|(8,[0,4],[1097.0,...|\n",
      "|  5|  9|  1|     UA|   770|SFO| 967|  12.7|     158|   20|        0.0|    1.0|(7,[1],[1.0])|(8,[0,2],[967.0,1...|\n",
      "|  3| 10|  4|     B6|   937|ORD|1735| 17.58|     265|  155|        4.0|    0.0|(7,[0],[1.0])|(8,[0,1],[1735.0,...|\n",
      "| 11| 15|  1|     AA|  2303|ORD| 802|  6.75|     160|   23|        1.0|    0.0|(7,[0],[1.0])|(8,[0,1],[802.0,1...|\n",
      "|  8| 18|  4|     UA|   802|SJC| 948|  6.33|     160|   17|        0.0|    4.0|(7,[4],[1.0])|(8,[0,5],[948.0,1...|\n",
      "|  2| 14|  5|     B6|    71|JFK| 944|  6.17|     166|    0|        4.0|    2.0|(7,[2],[1.0])|(8,[0,3],[944.0,1...|\n",
      "+---+---+---+-------+------+---+----+------+--------+-----+-----------+-------+-------------+--------------------+\n",
      "only showing top 20 rows\n",
      "\n"
     ]
    }
   ],
   "source": [
    "flights_assembled.show()"
   ]
  },
  {
   "cell_type": "code",
   "execution_count": 10,
   "metadata": {},
   "outputs": [],
   "source": [
    "# Split into training and testing sets in a 80:20 ratio\n",
    "flights_train, flights_test = flights.randomSplit([0.8, 0.2], seed=17)"
   ]
  },
  {
   "cell_type": "markdown",
   "metadata": {},
   "source": [
    "### Linear regression"
   ]
  },
  {
   "cell_type": "code",
   "execution_count": 11,
   "metadata": {},
   "outputs": [
    {
     "name": "stdout",
     "output_type": "stream",
     "text": [
      "+--------+------------------+\n",
      "|duration|prediction        |\n",
      "+--------+------------------+\n",
      "|135     |148.00838636163186|\n",
      "|120     |131.98696435629046|\n",
      "|160     |150.5192062281406 |\n",
      "|275     |265.0604172812531 |\n",
      "|85      |92.53122359686756 |\n",
      "+--------+------------------+\n",
      "only showing top 5 rows\n",
      "\n"
     ]
    },
    {
     "data": {
      "text/plain": [
       "11.013344846790027"
      ]
     },
     "execution_count": 11,
     "metadata": {},
     "output_type": "execute_result"
    }
   ],
   "source": [
    "from pyspark.ml.regression import LinearRegression\n",
    "from pyspark.ml.evaluation import RegressionEvaluator\n",
    "\n",
    "# Create a regression object and train on training data\n",
    "regression = LinearRegression(labelCol='duration').fit(flights_train)\n",
    "\n",
    "# Create predictions for the testing data and take a look at the predictions\n",
    "predictions = regression.transform(flights_test)\n",
    "predictions.select('duration', 'prediction').show(5, False)\n",
    "\n",
    "# Calculate the RMSE\n",
    "RegressionEvaluator(labelCol='duration').evaluate(predictions)"
   ]
  },
  {
   "cell_type": "code",
   "execution_count": 12,
   "metadata": {},
   "outputs": [
    {
     "name": "stdout",
     "output_type": "stream",
     "text": [
      "15.962765747410497\n",
      "[0.11956285078612996,28.384628982646692,20.328302758040284,52.52303648902806,46.6402648624079,18.13267630098186,15.549814800702347,17.666886213401646]\n",
      "0.11956285078612996\n"
     ]
    }
   ],
   "source": [
    "# Intercept (average minutes on ground)\n",
    "inter = regression.intercept\n",
    "print(inter)\n",
    "\n",
    "# Coefficients\n",
    "coefs = regression.coefficients \n",
    "print(coefs)\n",
    "\n",
    "# Average minutes per km\n",
    "minutes_per_km = regression.coefficients[0]\n",
    "print(minutes_per_km)\n",
    "\n",
    "# Average speed in km per hour"
   ]
  },
  {
   "cell_type": "markdown",
   "metadata": {},
   "source": [
    "### Interpreting coefficients"
   ]
  },
  {
   "cell_type": "code",
   "execution_count": 13,
   "metadata": {},
   "outputs": [
    {
     "name": "stdout",
     "output_type": "stream",
     "text": [
      "501.82811471538093\n",
      "15.962765747410497\n",
      "68.48580223643856\n",
      "62.603030609818404\n"
     ]
    }
   ],
   "source": [
    "# Average speed in km per hour\n",
    "avg_speed_hour = 60 / regression.coefficients[0]\n",
    "print(avg_speed_hour)\n",
    "\n",
    "# Average minutes on ground at OGG\n",
    "inter = regression.intercept\n",
    "print(inter)\n",
    "\n",
    "# Average minutes on ground at JFK\n",
    "avg_ground_jfk = inter + regression.coefficients[3]\n",
    "print(avg_ground_jfk)\n",
    "\n",
    "# Average minutes on ground at LGA\n",
    "avg_ground_lga = inter + regression.coefficients[4]\n",
    "print(avg_ground_lga)"
   ]
  },
  {
   "cell_type": "code",
   "execution_count": 14,
   "metadata": {},
   "outputs": [
    {
     "name": "stdout",
     "output_type": "stream",
     "text": [
      "15.962765747410497\n",
      "33.62965196081214\n",
      "86.1526884498402\n"
     ]
    }
   ],
   "source": [
    "# Find the RMSE on testing data\n",
    "from pyspark.ml.evaluation import RegressionEvaluator\n",
    "RegressionEvaluator(labelCol='duration').evaluate(predictions)\n",
    "\n",
    "# Average minutes on ground at OGG for flights departing between 21:00 and 24:00\n",
    "avg_eve_ogg = regression.intercept\n",
    "print(avg_eve_ogg)\n",
    "\n",
    "# Average minutes on ground at OGG for flights departing between 00:00 and 03:00\n",
    "avg_night_ogg = regression.intercept + regression.coefficients[7]\n",
    "print(avg_night_ogg)\n",
    "\n",
    "# Average minutes on ground at JFK for flights departing between 00:00 and 03:00\n",
    "avg_night_jfk = regression.intercept + regression.coefficients[7] + regression.coefficients[3]\n",
    "print(avg_night_jfk)"
   ]
  },
  {
   "cell_type": "markdown",
   "metadata": {},
   "source": [
    "### Lasso regularization"
   ]
  },
  {
   "cell_type": "code",
   "execution_count": 15,
   "metadata": {},
   "outputs": [
    {
     "name": "stdout",
     "output_type": "stream",
     "text": [
      "The test RMSE is 11.627558869357237\n",
      "[0.11824617516771116,5.735841925911693,0.0,29.23464599249453,22.121212095427563,0.0,-2.162292165630389,0.0]\n",
      "Number of ceofficients equal to 0: 3\n"
     ]
    }
   ],
   "source": [
    "from pyspark.ml.regression import LinearRegression\n",
    "from pyspark.ml.evaluation import RegressionEvaluator\n",
    "\n",
    "# Fit Lasso model (α = 1) to training data\n",
    "regression = LinearRegression(labelCol='duration', regParam=1, elasticNetParam=1).fit(flights_train)\n",
    "\n",
    "# Make predictions on testing data\n",
    "#predictions = regression.transform(flights_test)\n",
    "\n",
    "# Calculate the RMSE on testing data\n",
    "rmse = RegressionEvaluator(labelCol='duration').evaluate(regression.transform(flights_test))\n",
    "print(\"The test RMSE is\", rmse)\n",
    "\n",
    "# Look at the model coefficients\n",
    "coeffs = regression.coefficients\n",
    "print(coeffs)\n",
    "\n",
    "# Number of zero coefficients\n",
    "zero_coeff = sum([beta == 0 for beta in regression.coefficients])\n",
    "print(\"Number of ceofficients equal to 0:\", zero_coeff)"
   ]
  }
 ],
 "metadata": {
  "kernelspec": {
   "display_name": "Python 3",
   "language": "python",
   "name": "python3"
  },
  "language_info": {
   "codemirror_mode": {
    "name": "ipython",
    "version": 3
   },
   "file_extension": ".py",
   "mimetype": "text/x-python",
   "name": "python",
   "nbconvert_exporter": "python",
   "pygments_lexer": "ipython3",
   "version": "3.7.3"
  }
 },
 "nbformat": 4,
 "nbformat_minor": 2
}
